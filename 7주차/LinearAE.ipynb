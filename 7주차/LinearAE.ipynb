{
 "cells": [
  {
   "cell_type": "code",
   "execution_count": 390,
   "id": "2ec639f4-fa95-476a-8fe1-cb236a8875dc",
   "metadata": {},
   "outputs": [],
   "source": [
    "\n",
    "import pandas as pd\n",
    "import numpy as np\n",
    "import matplotlib.pyplot as plt\n",
    "from sklearn.model_selection import train_test_split\n",
    "from sklearn.preprocessing import StandardScaler\n",
    "from tensorflow.keras.models import Model\n",
    "from tensorflow.keras.layers import Input, Dense\n",
    "from tensorflow.keras.optimizers import Adam"
   ]
  },
  {
   "cell_type": "code",
   "execution_count": 391,
   "id": "2a7847e5-69e6-4a15-8ed0-4b0036a9d6e6",
   "metadata": {},
   "outputs": [],
   "source": [
    "df = pd.read_csv(\"C:/dataset/DSA_features.csv\")"
   ]
  },
  {
   "cell_type": "code",
   "execution_count": 392,
   "id": "0bfa8f86-db25-48e8-b37c-dccbc3035485",
   "metadata": {},
   "outputs": [
    {
     "data": {
      "text/plain": [
       "Index(['T_xacc_mean', 'T_xacc_max', 'T_xacc_min', 'T_xacc_var', 'T_xacc_std',\n",
       "       'T_xacc_skew', 'T_yacc_mean', 'T_yacc_max', 'T_yacc_min', 'T_yacc_var',\n",
       "       ...\n",
       "       'LL_ymag_std', 'LL_ymag_skew', 'LL_zmag_mean', 'LL_zmag_max',\n",
       "       'LL_zmag_min', 'LL_zmag_var', 'LL_zmag_std', 'LL_zmag_skew', 'activity',\n",
       "       'people'],\n",
       "      dtype='object', length=272)"
      ]
     },
     "execution_count": 392,
     "metadata": {},
     "output_type": "execute_result"
    }
   ],
   "source": [
    "df.columns"
   ]
  },
  {
   "cell_type": "code",
   "execution_count": 393,
   "id": "6527302f-026f-4af8-9f13-ac1e1903da95",
   "metadata": {},
   "outputs": [
    {
     "data": {
      "text/plain": [
       "array(['sitting', 'standing', 'lyingBack', 'lyingRigh', 'ascendingStairs',\n",
       "       'decendingStairs', 'standingInElevatorStill', 'movingInElevator',\n",
       "       'walkingLot', 'walkingTreadmillFlat', 'walkingTreadmillIncline',\n",
       "       'runningTreadmill', 'stepper', 'crossTrainer', 'cyclingHorizontal',\n",
       "       'cyclingVertical', 'rowing', 'jumping', 'basketBall'], dtype=object)"
      ]
     },
     "execution_count": 393,
     "metadata": {},
     "output_type": "execute_result"
    }
   ],
   "source": [
    "df[\"activity\"].unique()"
   ]
  },
  {
   "cell_type": "code",
   "execution_count": 394,
   "id": "3e5c9ff2-bfa9-4a10-907b-92124ea3c54f",
   "metadata": {},
   "outputs": [],
   "source": [
    "df_data = df[(df[\"activity\"] == \"lyingBack\") | (df[\"activity\"] == \"lyingRigh\")|(df[\"activity\"] == \"standing\")]"
   ]
  },
  {
   "cell_type": "code",
   "execution_count": 395,
   "id": "bc151ac7-7a78-49a1-864d-a5fee6c7dd46",
   "metadata": {},
   "outputs": [
    {
     "data": {
      "text/plain": [
       "(1440, 272)"
      ]
     },
     "execution_count": 395,
     "metadata": {},
     "output_type": "execute_result"
    }
   ],
   "source": [
    "df_data.shape"
   ]
  },
  {
   "cell_type": "code",
   "execution_count": 396,
   "id": "dfbfdb07-a718-4530-af30-596eaac42d34",
   "metadata": {},
   "outputs": [
    {
     "data": {
      "text/plain": [
       "activity\n",
       "standing     480\n",
       "lyingBack    480\n",
       "lyingRigh    480\n",
       "Name: count, dtype: int64"
      ]
     },
     "execution_count": 396,
     "metadata": {},
     "output_type": "execute_result"
    }
   ],
   "source": [
    "df_data[\"activity\"].value_counts()"
   ]
  },
  {
   "cell_type": "code",
   "execution_count": 397,
   "id": "22e07d81-997c-4144-ab38-a5fdd1a1e695",
   "metadata": {},
   "outputs": [
    {
     "data": {
      "text/html": [
       "<div>\n",
       "<style scoped>\n",
       "    .dataframe tbody tr th:only-of-type {\n",
       "        vertical-align: middle;\n",
       "    }\n",
       "\n",
       "    .dataframe tbody tr th {\n",
       "        vertical-align: top;\n",
       "    }\n",
       "\n",
       "    .dataframe thead th {\n",
       "        text-align: right;\n",
       "    }\n",
       "</style>\n",
       "<table border=\"1\" class=\"dataframe\">\n",
       "  <thead>\n",
       "    <tr style=\"text-align: right;\">\n",
       "      <th></th>\n",
       "      <th>T_xacc_mean</th>\n",
       "      <th>T_xacc_max</th>\n",
       "      <th>T_xacc_min</th>\n",
       "      <th>T_xacc_var</th>\n",
       "      <th>T_xacc_std</th>\n",
       "      <th>T_xacc_skew</th>\n",
       "      <th>T_yacc_mean</th>\n",
       "      <th>T_yacc_max</th>\n",
       "      <th>T_yacc_min</th>\n",
       "      <th>T_yacc_var</th>\n",
       "      <th>...</th>\n",
       "      <th>LL_ymag_std</th>\n",
       "      <th>LL_ymag_skew</th>\n",
       "      <th>LL_zmag_mean</th>\n",
       "      <th>LL_zmag_max</th>\n",
       "      <th>LL_zmag_min</th>\n",
       "      <th>LL_zmag_var</th>\n",
       "      <th>LL_zmag_std</th>\n",
       "      <th>LL_zmag_skew</th>\n",
       "      <th>activity</th>\n",
       "      <th>people</th>\n",
       "    </tr>\n",
       "  </thead>\n",
       "  <tbody>\n",
       "    <tr>\n",
       "      <th>480</th>\n",
       "      <td>8.416815</td>\n",
       "      <td>8.5783</td>\n",
       "      <td>8.3103</td>\n",
       "      <td>0.002356</td>\n",
       "      <td>0.048537</td>\n",
       "      <td>0.867785</td>\n",
       "      <td>0.571528</td>\n",
       "      <td>0.73677</td>\n",
       "      <td>0.35819</td>\n",
       "      <td>0.004036</td>\n",
       "      <td>...</td>\n",
       "      <td>0.001131</td>\n",
       "      <td>0.243260</td>\n",
       "      <td>0.644246</td>\n",
       "      <td>0.64700</td>\n",
       "      <td>0.64109</td>\n",
       "      <td>0.000002</td>\n",
       "      <td>0.001313</td>\n",
       "      <td>-0.184083</td>\n",
       "      <td>standing</td>\n",
       "      <td>p1</td>\n",
       "    </tr>\n",
       "    <tr>\n",
       "      <th>481</th>\n",
       "      <td>8.439497</td>\n",
       "      <td>8.6153</td>\n",
       "      <td>8.1908</td>\n",
       "      <td>0.005754</td>\n",
       "      <td>0.075855</td>\n",
       "      <td>0.092156</td>\n",
       "      <td>0.499881</td>\n",
       "      <td>0.63267</td>\n",
       "      <td>0.32807</td>\n",
       "      <td>0.004515</td>\n",
       "      <td>...</td>\n",
       "      <td>0.001678</td>\n",
       "      <td>0.391596</td>\n",
       "      <td>0.643432</td>\n",
       "      <td>0.64789</td>\n",
       "      <td>0.63942</td>\n",
       "      <td>0.000003</td>\n",
       "      <td>0.001805</td>\n",
       "      <td>0.239917</td>\n",
       "      <td>standing</td>\n",
       "      <td>p1</td>\n",
       "    </tr>\n",
       "    <tr>\n",
       "      <th>482</th>\n",
       "      <td>8.442786</td>\n",
       "      <td>8.5184</td>\n",
       "      <td>8.3690</td>\n",
       "      <td>0.000786</td>\n",
       "      <td>0.028033</td>\n",
       "      <td>0.096127</td>\n",
       "      <td>0.429967</td>\n",
       "      <td>0.59482</td>\n",
       "      <td>0.32835</td>\n",
       "      <td>0.001260</td>\n",
       "      <td>...</td>\n",
       "      <td>0.001327</td>\n",
       "      <td>0.753549</td>\n",
       "      <td>0.643036</td>\n",
       "      <td>0.64646</td>\n",
       "      <td>0.64019</td>\n",
       "      <td>0.000002</td>\n",
       "      <td>0.001447</td>\n",
       "      <td>0.178525</td>\n",
       "      <td>standing</td>\n",
       "      <td>p1</td>\n",
       "    </tr>\n",
       "    <tr>\n",
       "      <th>483</th>\n",
       "      <td>8.444243</td>\n",
       "      <td>8.5480</td>\n",
       "      <td>8.3692</td>\n",
       "      <td>0.001558</td>\n",
       "      <td>0.039470</td>\n",
       "      <td>0.361301</td>\n",
       "      <td>0.414673</td>\n",
       "      <td>0.49073</td>\n",
       "      <td>0.33563</td>\n",
       "      <td>0.000867</td>\n",
       "      <td>...</td>\n",
       "      <td>0.003490</td>\n",
       "      <td>0.178568</td>\n",
       "      <td>0.643370</td>\n",
       "      <td>0.64657</td>\n",
       "      <td>0.64004</td>\n",
       "      <td>0.000003</td>\n",
       "      <td>0.001771</td>\n",
       "      <td>0.080492</td>\n",
       "      <td>standing</td>\n",
       "      <td>p1</td>\n",
       "    </tr>\n",
       "    <tr>\n",
       "      <th>484</th>\n",
       "      <td>8.347373</td>\n",
       "      <td>8.4138</td>\n",
       "      <td>8.2791</td>\n",
       "      <td>0.000774</td>\n",
       "      <td>0.027822</td>\n",
       "      <td>0.018596</td>\n",
       "      <td>0.441606</td>\n",
       "      <td>0.52153</td>\n",
       "      <td>0.37246</td>\n",
       "      <td>0.001067</td>\n",
       "      <td>...</td>\n",
       "      <td>0.000940</td>\n",
       "      <td>-0.237978</td>\n",
       "      <td>0.643874</td>\n",
       "      <td>0.64611</td>\n",
       "      <td>0.64063</td>\n",
       "      <td>0.000001</td>\n",
       "      <td>0.001219</td>\n",
       "      <td>-0.291443</td>\n",
       "      <td>standing</td>\n",
       "      <td>p1</td>\n",
       "    </tr>\n",
       "  </tbody>\n",
       "</table>\n",
       "<p>5 rows × 272 columns</p>\n",
       "</div>"
      ],
      "text/plain": [
       "     T_xacc_mean  T_xacc_max  T_xacc_min  T_xacc_var  T_xacc_std  T_xacc_skew  \\\n",
       "480     8.416815      8.5783      8.3103    0.002356    0.048537     0.867785   \n",
       "481     8.439497      8.6153      8.1908    0.005754    0.075855     0.092156   \n",
       "482     8.442786      8.5184      8.3690    0.000786    0.028033     0.096127   \n",
       "483     8.444243      8.5480      8.3692    0.001558    0.039470     0.361301   \n",
       "484     8.347373      8.4138      8.2791    0.000774    0.027822     0.018596   \n",
       "\n",
       "     T_yacc_mean  T_yacc_max  T_yacc_min  T_yacc_var  ...  LL_ymag_std  \\\n",
       "480     0.571528     0.73677     0.35819    0.004036  ...     0.001131   \n",
       "481     0.499881     0.63267     0.32807    0.004515  ...     0.001678   \n",
       "482     0.429967     0.59482     0.32835    0.001260  ...     0.001327   \n",
       "483     0.414673     0.49073     0.33563    0.000867  ...     0.003490   \n",
       "484     0.441606     0.52153     0.37246    0.001067  ...     0.000940   \n",
       "\n",
       "     LL_ymag_skew  LL_zmag_mean  LL_zmag_max  LL_zmag_min  LL_zmag_var  \\\n",
       "480      0.243260      0.644246      0.64700      0.64109     0.000002   \n",
       "481      0.391596      0.643432      0.64789      0.63942     0.000003   \n",
       "482      0.753549      0.643036      0.64646      0.64019     0.000002   \n",
       "483      0.178568      0.643370      0.64657      0.64004     0.000003   \n",
       "484     -0.237978      0.643874      0.64611      0.64063     0.000001   \n",
       "\n",
       "     LL_zmag_std  LL_zmag_skew  activity  people  \n",
       "480     0.001313     -0.184083  standing      p1  \n",
       "481     0.001805      0.239917  standing      p1  \n",
       "482     0.001447      0.178525  standing      p1  \n",
       "483     0.001771      0.080492  standing      p1  \n",
       "484     0.001219     -0.291443  standing      p1  \n",
       "\n",
       "[5 rows x 272 columns]"
      ]
     },
     "execution_count": 397,
     "metadata": {},
     "output_type": "execute_result"
    }
   ],
   "source": [
    "df_data.head()"
   ]
  },
  {
   "cell_type": "code",
   "execution_count": 398,
   "id": "2a9950a4-9f33-4ff2-9663-6cb91f02ac3c",
   "metadata": {},
   "outputs": [
    {
     "data": {
      "text/html": [
       "<div>\n",
       "<style scoped>\n",
       "    .dataframe tbody tr th:only-of-type {\n",
       "        vertical-align: middle;\n",
       "    }\n",
       "\n",
       "    .dataframe tbody tr th {\n",
       "        vertical-align: top;\n",
       "    }\n",
       "\n",
       "    .dataframe thead th {\n",
       "        text-align: right;\n",
       "    }\n",
       "</style>\n",
       "<table border=\"1\" class=\"dataframe\">\n",
       "  <thead>\n",
       "    <tr style=\"text-align: right;\">\n",
       "      <th></th>\n",
       "      <th>T_xacc_mean</th>\n",
       "      <th>T_xacc_max</th>\n",
       "      <th>T_xacc_min</th>\n",
       "      <th>T_xacc_var</th>\n",
       "      <th>T_xacc_std</th>\n",
       "      <th>T_xacc_skew</th>\n",
       "      <th>T_yacc_mean</th>\n",
       "      <th>T_yacc_max</th>\n",
       "      <th>T_yacc_min</th>\n",
       "      <th>T_yacc_var</th>\n",
       "      <th>...</th>\n",
       "      <th>LL_ymag_std</th>\n",
       "      <th>LL_ymag_skew</th>\n",
       "      <th>LL_zmag_mean</th>\n",
       "      <th>LL_zmag_max</th>\n",
       "      <th>LL_zmag_min</th>\n",
       "      <th>LL_zmag_var</th>\n",
       "      <th>LL_zmag_std</th>\n",
       "      <th>LL_zmag_skew</th>\n",
       "      <th>activity</th>\n",
       "      <th>people</th>\n",
       "    </tr>\n",
       "  </thead>\n",
       "  <tbody>\n",
       "    <tr>\n",
       "      <th>1915</th>\n",
       "      <td>2.620502</td>\n",
       "      <td>2.6592</td>\n",
       "      <td>2.5891</td>\n",
       "      <td>0.000199</td>\n",
       "      <td>0.014113</td>\n",
       "      <td>0.148452</td>\n",
       "      <td>-9.392025</td>\n",
       "      <td>-9.3424</td>\n",
       "      <td>-9.4207</td>\n",
       "      <td>0.000242</td>\n",
       "      <td>...</td>\n",
       "      <td>0.009589</td>\n",
       "      <td>0.401254</td>\n",
       "      <td>-0.410987</td>\n",
       "      <td>-0.38221</td>\n",
       "      <td>-0.44605</td>\n",
       "      <td>0.000099</td>\n",
       "      <td>0.009967</td>\n",
       "      <td>-0.597598</td>\n",
       "      <td>lyingRigh</td>\n",
       "      <td>p8</td>\n",
       "    </tr>\n",
       "    <tr>\n",
       "      <th>1916</th>\n",
       "      <td>2.613423</td>\n",
       "      <td>2.6572</td>\n",
       "      <td>2.5815</td>\n",
       "      <td>0.000207</td>\n",
       "      <td>0.014387</td>\n",
       "      <td>0.368746</td>\n",
       "      <td>-9.398851</td>\n",
       "      <td>-9.3657</td>\n",
       "      <td>-9.4356</td>\n",
       "      <td>0.000156</td>\n",
       "      <td>...</td>\n",
       "      <td>0.008588</td>\n",
       "      <td>0.147180</td>\n",
       "      <td>-0.411248</td>\n",
       "      <td>-0.36581</td>\n",
       "      <td>-0.43676</td>\n",
       "      <td>0.000087</td>\n",
       "      <td>0.009306</td>\n",
       "      <td>1.021454</td>\n",
       "      <td>lyingRigh</td>\n",
       "      <td>p8</td>\n",
       "    </tr>\n",
       "    <tr>\n",
       "      <th>1917</th>\n",
       "      <td>2.614750</td>\n",
       "      <td>2.6576</td>\n",
       "      <td>2.5654</td>\n",
       "      <td>0.000257</td>\n",
       "      <td>0.016018</td>\n",
       "      <td>-0.007991</td>\n",
       "      <td>-9.397350</td>\n",
       "      <td>-9.3628</td>\n",
       "      <td>-9.4313</td>\n",
       "      <td>0.000214</td>\n",
       "      <td>...</td>\n",
       "      <td>0.005814</td>\n",
       "      <td>0.032341</td>\n",
       "      <td>-0.409787</td>\n",
       "      <td>-0.37926</td>\n",
       "      <td>-0.43431</td>\n",
       "      <td>0.000073</td>\n",
       "      <td>0.008520</td>\n",
       "      <td>0.431012</td>\n",
       "      <td>lyingRigh</td>\n",
       "      <td>p8</td>\n",
       "    </tr>\n",
       "    <tr>\n",
       "      <th>1918</th>\n",
       "      <td>2.620167</td>\n",
       "      <td>2.6589</td>\n",
       "      <td>2.5781</td>\n",
       "      <td>0.000216</td>\n",
       "      <td>0.014691</td>\n",
       "      <td>-0.114904</td>\n",
       "      <td>-9.397014</td>\n",
       "      <td>-9.3649</td>\n",
       "      <td>-9.4539</td>\n",
       "      <td>0.000257</td>\n",
       "      <td>...</td>\n",
       "      <td>0.009510</td>\n",
       "      <td>0.409508</td>\n",
       "      <td>-0.409101</td>\n",
       "      <td>-0.36074</td>\n",
       "      <td>-0.44087</td>\n",
       "      <td>0.000113</td>\n",
       "      <td>0.010620</td>\n",
       "      <td>1.368666</td>\n",
       "      <td>lyingRigh</td>\n",
       "      <td>p8</td>\n",
       "    </tr>\n",
       "    <tr>\n",
       "      <th>1919</th>\n",
       "      <td>2.615565</td>\n",
       "      <td>2.6789</td>\n",
       "      <td>2.5734</td>\n",
       "      <td>0.000310</td>\n",
       "      <td>0.017610</td>\n",
       "      <td>0.608394</td>\n",
       "      <td>-9.398614</td>\n",
       "      <td>-9.3661</td>\n",
       "      <td>-9.4279</td>\n",
       "      <td>0.000167</td>\n",
       "      <td>...</td>\n",
       "      <td>0.009874</td>\n",
       "      <td>0.413339</td>\n",
       "      <td>-0.410440</td>\n",
       "      <td>-0.38588</td>\n",
       "      <td>-0.43841</td>\n",
       "      <td>0.000072</td>\n",
       "      <td>0.008495</td>\n",
       "      <td>0.054973</td>\n",
       "      <td>lyingRigh</td>\n",
       "      <td>p8</td>\n",
       "    </tr>\n",
       "  </tbody>\n",
       "</table>\n",
       "<p>5 rows × 272 columns</p>\n",
       "</div>"
      ],
      "text/plain": [
       "      T_xacc_mean  T_xacc_max  T_xacc_min  T_xacc_var  T_xacc_std  \\\n",
       "1915     2.620502      2.6592      2.5891    0.000199    0.014113   \n",
       "1916     2.613423      2.6572      2.5815    0.000207    0.014387   \n",
       "1917     2.614750      2.6576      2.5654    0.000257    0.016018   \n",
       "1918     2.620167      2.6589      2.5781    0.000216    0.014691   \n",
       "1919     2.615565      2.6789      2.5734    0.000310    0.017610   \n",
       "\n",
       "      T_xacc_skew  T_yacc_mean  T_yacc_max  T_yacc_min  T_yacc_var  ...  \\\n",
       "1915     0.148452    -9.392025     -9.3424     -9.4207    0.000242  ...   \n",
       "1916     0.368746    -9.398851     -9.3657     -9.4356    0.000156  ...   \n",
       "1917    -0.007991    -9.397350     -9.3628     -9.4313    0.000214  ...   \n",
       "1918    -0.114904    -9.397014     -9.3649     -9.4539    0.000257  ...   \n",
       "1919     0.608394    -9.398614     -9.3661     -9.4279    0.000167  ...   \n",
       "\n",
       "      LL_ymag_std  LL_ymag_skew  LL_zmag_mean  LL_zmag_max  LL_zmag_min  \\\n",
       "1915     0.009589      0.401254     -0.410987     -0.38221     -0.44605   \n",
       "1916     0.008588      0.147180     -0.411248     -0.36581     -0.43676   \n",
       "1917     0.005814      0.032341     -0.409787     -0.37926     -0.43431   \n",
       "1918     0.009510      0.409508     -0.409101     -0.36074     -0.44087   \n",
       "1919     0.009874      0.413339     -0.410440     -0.38588     -0.43841   \n",
       "\n",
       "      LL_zmag_var  LL_zmag_std  LL_zmag_skew   activity  people  \n",
       "1915     0.000099     0.009967     -0.597598  lyingRigh      p8  \n",
       "1916     0.000087     0.009306      1.021454  lyingRigh      p8  \n",
       "1917     0.000073     0.008520      0.431012  lyingRigh      p8  \n",
       "1918     0.000113     0.010620      1.368666  lyingRigh      p8  \n",
       "1919     0.000072     0.008495      0.054973  lyingRigh      p8  \n",
       "\n",
       "[5 rows x 272 columns]"
      ]
     },
     "execution_count": 398,
     "metadata": {},
     "output_type": "execute_result"
    }
   ],
   "source": [
    "df_data.tail()"
   ]
  },
  {
   "cell_type": "code",
   "execution_count": 399,
   "id": "222aa8f2-803e-4b25-9922-63168af6f4da",
   "metadata": {},
   "outputs": [
    {
     "name": "stderr",
     "output_type": "stream",
     "text": [
      "C:\\TempFolder\\ipykernel_6560\\2711231745.py:5: SettingWithCopyWarning: \n",
      "A value is trying to be set on a copy of a slice from a DataFrame.\n",
      "Try using .loc[row_indexer,col_indexer] = value instead\n",
      "\n",
      "See the caveats in the documentation: https://pandas.pydata.org/pandas-docs/stable/user_guide/indexing.html#returning-a-view-versus-a-copy\n",
      "  df_data['activity'] = label_encoder.fit_transform(df_data['activity'])\n"
     ]
    }
   ],
   "source": [
    "from sklearn.preprocessing import LabelEncoder\n",
    "\n",
    "label_encoder = LabelEncoder()\n",
    "\n",
    "df_data['activity'] = label_encoder.fit_transform(df_data['activity'])"
   ]
  },
  {
   "cell_type": "code",
   "execution_count": 400,
   "id": "5c8a7af6-3127-4b4e-94f2-3c1baa2f57a3",
   "metadata": {},
   "outputs": [
    {
     "name": "stdout",
     "output_type": "stream",
     "text": [
      "activity\n",
      "2    480\n",
      "0    480\n",
      "1    480\n",
      "Name: count, dtype: int64\n"
     ]
    }
   ],
   "source": [
    "print(df_data[\"activity\"].value_counts())\n",
    "df_data = df_data.drop([\"people\"], axis=1)"
   ]
  },
  {
   "cell_type": "code",
   "execution_count": null,
   "id": "ab9d3fd6-5b1f-493f-882b-d30bd35a5aee",
   "metadata": {},
   "outputs": [],
   "source": []
  },
  {
   "cell_type": "code",
   "execution_count": 401,
   "id": "35221eea-ad42-496f-977a-1644708288fe",
   "metadata": {},
   "outputs": [
    {
     "data": {
      "text/html": [
       "<div>\n",
       "<style scoped>\n",
       "    .dataframe tbody tr th:only-of-type {\n",
       "        vertical-align: middle;\n",
       "    }\n",
       "\n",
       "    .dataframe tbody tr th {\n",
       "        vertical-align: top;\n",
       "    }\n",
       "\n",
       "    .dataframe thead th {\n",
       "        text-align: right;\n",
       "    }\n",
       "</style>\n",
       "<table border=\"1\" class=\"dataframe\">\n",
       "  <thead>\n",
       "    <tr style=\"text-align: right;\">\n",
       "      <th></th>\n",
       "      <th>T_xacc_mean</th>\n",
       "      <th>T_xacc_max</th>\n",
       "      <th>T_xacc_min</th>\n",
       "      <th>T_xacc_var</th>\n",
       "      <th>T_xacc_std</th>\n",
       "      <th>T_xacc_skew</th>\n",
       "      <th>T_yacc_mean</th>\n",
       "      <th>T_yacc_max</th>\n",
       "      <th>T_yacc_min</th>\n",
       "      <th>T_yacc_var</th>\n",
       "      <th>...</th>\n",
       "      <th>LL_ymag_var</th>\n",
       "      <th>LL_ymag_std</th>\n",
       "      <th>LL_ymag_skew</th>\n",
       "      <th>LL_zmag_mean</th>\n",
       "      <th>LL_zmag_max</th>\n",
       "      <th>LL_zmag_min</th>\n",
       "      <th>LL_zmag_var</th>\n",
       "      <th>LL_zmag_std</th>\n",
       "      <th>LL_zmag_skew</th>\n",
       "      <th>activity</th>\n",
       "    </tr>\n",
       "  </thead>\n",
       "  <tbody>\n",
       "    <tr>\n",
       "      <th>480</th>\n",
       "      <td>8.416815</td>\n",
       "      <td>8.5783</td>\n",
       "      <td>8.3103</td>\n",
       "      <td>0.002356</td>\n",
       "      <td>0.048537</td>\n",
       "      <td>0.867785</td>\n",
       "      <td>0.571528</td>\n",
       "      <td>0.73677</td>\n",
       "      <td>0.35819</td>\n",
       "      <td>0.004036</td>\n",
       "      <td>...</td>\n",
       "      <td>1.278649e-06</td>\n",
       "      <td>0.001131</td>\n",
       "      <td>0.243260</td>\n",
       "      <td>0.644246</td>\n",
       "      <td>0.64700</td>\n",
       "      <td>0.64109</td>\n",
       "      <td>0.000002</td>\n",
       "      <td>0.001313</td>\n",
       "      <td>-0.184083</td>\n",
       "      <td>2</td>\n",
       "    </tr>\n",
       "    <tr>\n",
       "      <th>481</th>\n",
       "      <td>8.439497</td>\n",
       "      <td>8.6153</td>\n",
       "      <td>8.1908</td>\n",
       "      <td>0.005754</td>\n",
       "      <td>0.075855</td>\n",
       "      <td>0.092156</td>\n",
       "      <td>0.499881</td>\n",
       "      <td>0.63267</td>\n",
       "      <td>0.32807</td>\n",
       "      <td>0.004515</td>\n",
       "      <td>...</td>\n",
       "      <td>2.816324e-06</td>\n",
       "      <td>0.001678</td>\n",
       "      <td>0.391596</td>\n",
       "      <td>0.643432</td>\n",
       "      <td>0.64789</td>\n",
       "      <td>0.63942</td>\n",
       "      <td>0.000003</td>\n",
       "      <td>0.001805</td>\n",
       "      <td>0.239917</td>\n",
       "      <td>2</td>\n",
       "    </tr>\n",
       "    <tr>\n",
       "      <th>482</th>\n",
       "      <td>8.442786</td>\n",
       "      <td>8.5184</td>\n",
       "      <td>8.3690</td>\n",
       "      <td>0.000786</td>\n",
       "      <td>0.028033</td>\n",
       "      <td>0.096127</td>\n",
       "      <td>0.429967</td>\n",
       "      <td>0.59482</td>\n",
       "      <td>0.32835</td>\n",
       "      <td>0.001260</td>\n",
       "      <td>...</td>\n",
       "      <td>1.760422e-06</td>\n",
       "      <td>0.001327</td>\n",
       "      <td>0.753549</td>\n",
       "      <td>0.643036</td>\n",
       "      <td>0.64646</td>\n",
       "      <td>0.64019</td>\n",
       "      <td>0.000002</td>\n",
       "      <td>0.001447</td>\n",
       "      <td>0.178525</td>\n",
       "      <td>2</td>\n",
       "    </tr>\n",
       "    <tr>\n",
       "      <th>483</th>\n",
       "      <td>8.444243</td>\n",
       "      <td>8.5480</td>\n",
       "      <td>8.3692</td>\n",
       "      <td>0.001558</td>\n",
       "      <td>0.039470</td>\n",
       "      <td>0.361301</td>\n",
       "      <td>0.414673</td>\n",
       "      <td>0.49073</td>\n",
       "      <td>0.33563</td>\n",
       "      <td>0.000867</td>\n",
       "      <td>...</td>\n",
       "      <td>1.218089e-05</td>\n",
       "      <td>0.003490</td>\n",
       "      <td>0.178568</td>\n",
       "      <td>0.643370</td>\n",
       "      <td>0.64657</td>\n",
       "      <td>0.64004</td>\n",
       "      <td>0.000003</td>\n",
       "      <td>0.001771</td>\n",
       "      <td>0.080492</td>\n",
       "      <td>2</td>\n",
       "    </tr>\n",
       "    <tr>\n",
       "      <th>484</th>\n",
       "      <td>8.347373</td>\n",
       "      <td>8.4138</td>\n",
       "      <td>8.2791</td>\n",
       "      <td>0.000774</td>\n",
       "      <td>0.027822</td>\n",
       "      <td>0.018596</td>\n",
       "      <td>0.441606</td>\n",
       "      <td>0.52153</td>\n",
       "      <td>0.37246</td>\n",
       "      <td>0.001067</td>\n",
       "      <td>...</td>\n",
       "      <td>8.834185e-07</td>\n",
       "      <td>0.000940</td>\n",
       "      <td>-0.237978</td>\n",
       "      <td>0.643874</td>\n",
       "      <td>0.64611</td>\n",
       "      <td>0.64063</td>\n",
       "      <td>0.000001</td>\n",
       "      <td>0.001219</td>\n",
       "      <td>-0.291443</td>\n",
       "      <td>2</td>\n",
       "    </tr>\n",
       "  </tbody>\n",
       "</table>\n",
       "<p>5 rows × 271 columns</p>\n",
       "</div>"
      ],
      "text/plain": [
       "     T_xacc_mean  T_xacc_max  T_xacc_min  T_xacc_var  T_xacc_std  T_xacc_skew  \\\n",
       "480     8.416815      8.5783      8.3103    0.002356    0.048537     0.867785   \n",
       "481     8.439497      8.6153      8.1908    0.005754    0.075855     0.092156   \n",
       "482     8.442786      8.5184      8.3690    0.000786    0.028033     0.096127   \n",
       "483     8.444243      8.5480      8.3692    0.001558    0.039470     0.361301   \n",
       "484     8.347373      8.4138      8.2791    0.000774    0.027822     0.018596   \n",
       "\n",
       "     T_yacc_mean  T_yacc_max  T_yacc_min  T_yacc_var  ...   LL_ymag_var  \\\n",
       "480     0.571528     0.73677     0.35819    0.004036  ...  1.278649e-06   \n",
       "481     0.499881     0.63267     0.32807    0.004515  ...  2.816324e-06   \n",
       "482     0.429967     0.59482     0.32835    0.001260  ...  1.760422e-06   \n",
       "483     0.414673     0.49073     0.33563    0.000867  ...  1.218089e-05   \n",
       "484     0.441606     0.52153     0.37246    0.001067  ...  8.834185e-07   \n",
       "\n",
       "     LL_ymag_std  LL_ymag_skew  LL_zmag_mean  LL_zmag_max  LL_zmag_min  \\\n",
       "480     0.001131      0.243260      0.644246      0.64700      0.64109   \n",
       "481     0.001678      0.391596      0.643432      0.64789      0.63942   \n",
       "482     0.001327      0.753549      0.643036      0.64646      0.64019   \n",
       "483     0.003490      0.178568      0.643370      0.64657      0.64004   \n",
       "484     0.000940     -0.237978      0.643874      0.64611      0.64063   \n",
       "\n",
       "     LL_zmag_var  LL_zmag_std  LL_zmag_skew  activity  \n",
       "480     0.000002     0.001313     -0.184083         2  \n",
       "481     0.000003     0.001805      0.239917         2  \n",
       "482     0.000002     0.001447      0.178525         2  \n",
       "483     0.000003     0.001771      0.080492         2  \n",
       "484     0.000001     0.001219     -0.291443         2  \n",
       "\n",
       "[5 rows x 271 columns]"
      ]
     },
     "execution_count": 401,
     "metadata": {},
     "output_type": "execute_result"
    }
   ],
   "source": [
    "df_data.head()\n",
    "#activity 2은 standing activity == 0 1은 lyingback lyinghigh"
   ]
  },
  {
   "cell_type": "code",
   "execution_count": 402,
   "id": "56e9b036-2d85-44b5-82fa-4c4b281078b3",
   "metadata": {},
   "outputs": [
    {
     "data": {
      "text/html": [
       "<div>\n",
       "<style scoped>\n",
       "    .dataframe tbody tr th:only-of-type {\n",
       "        vertical-align: middle;\n",
       "    }\n",
       "\n",
       "    .dataframe tbody tr th {\n",
       "        vertical-align: top;\n",
       "    }\n",
       "\n",
       "    .dataframe thead th {\n",
       "        text-align: right;\n",
       "    }\n",
       "</style>\n",
       "<table border=\"1\" class=\"dataframe\">\n",
       "  <thead>\n",
       "    <tr style=\"text-align: right;\">\n",
       "      <th></th>\n",
       "      <th>T_xacc_mean</th>\n",
       "      <th>T_xacc_max</th>\n",
       "      <th>T_xacc_min</th>\n",
       "      <th>T_xacc_var</th>\n",
       "      <th>T_xacc_std</th>\n",
       "      <th>T_xacc_skew</th>\n",
       "      <th>T_yacc_mean</th>\n",
       "      <th>T_yacc_max</th>\n",
       "      <th>T_yacc_min</th>\n",
       "      <th>T_yacc_var</th>\n",
       "      <th>...</th>\n",
       "      <th>LL_ymag_var</th>\n",
       "      <th>LL_ymag_std</th>\n",
       "      <th>LL_ymag_skew</th>\n",
       "      <th>LL_zmag_mean</th>\n",
       "      <th>LL_zmag_max</th>\n",
       "      <th>LL_zmag_min</th>\n",
       "      <th>LL_zmag_var</th>\n",
       "      <th>LL_zmag_std</th>\n",
       "      <th>LL_zmag_skew</th>\n",
       "      <th>activity</th>\n",
       "    </tr>\n",
       "  </thead>\n",
       "  <tbody>\n",
       "    <tr>\n",
       "      <th>1915</th>\n",
       "      <td>2.620502</td>\n",
       "      <td>2.6592</td>\n",
       "      <td>2.5891</td>\n",
       "      <td>0.000199</td>\n",
       "      <td>0.014113</td>\n",
       "      <td>0.148452</td>\n",
       "      <td>-9.392025</td>\n",
       "      <td>-9.3424</td>\n",
       "      <td>-9.4207</td>\n",
       "      <td>0.000242</td>\n",
       "      <td>...</td>\n",
       "      <td>0.000092</td>\n",
       "      <td>0.009589</td>\n",
       "      <td>0.401254</td>\n",
       "      <td>-0.410987</td>\n",
       "      <td>-0.38221</td>\n",
       "      <td>-0.44605</td>\n",
       "      <td>0.000099</td>\n",
       "      <td>0.009967</td>\n",
       "      <td>-0.597598</td>\n",
       "      <td>1</td>\n",
       "    </tr>\n",
       "    <tr>\n",
       "      <th>1916</th>\n",
       "      <td>2.613423</td>\n",
       "      <td>2.6572</td>\n",
       "      <td>2.5815</td>\n",
       "      <td>0.000207</td>\n",
       "      <td>0.014387</td>\n",
       "      <td>0.368746</td>\n",
       "      <td>-9.398851</td>\n",
       "      <td>-9.3657</td>\n",
       "      <td>-9.4356</td>\n",
       "      <td>0.000156</td>\n",
       "      <td>...</td>\n",
       "      <td>0.000074</td>\n",
       "      <td>0.008588</td>\n",
       "      <td>0.147180</td>\n",
       "      <td>-0.411248</td>\n",
       "      <td>-0.36581</td>\n",
       "      <td>-0.43676</td>\n",
       "      <td>0.000087</td>\n",
       "      <td>0.009306</td>\n",
       "      <td>1.021454</td>\n",
       "      <td>1</td>\n",
       "    </tr>\n",
       "    <tr>\n",
       "      <th>1917</th>\n",
       "      <td>2.614750</td>\n",
       "      <td>2.6576</td>\n",
       "      <td>2.5654</td>\n",
       "      <td>0.000257</td>\n",
       "      <td>0.016018</td>\n",
       "      <td>-0.007991</td>\n",
       "      <td>-9.397350</td>\n",
       "      <td>-9.3628</td>\n",
       "      <td>-9.4313</td>\n",
       "      <td>0.000214</td>\n",
       "      <td>...</td>\n",
       "      <td>0.000034</td>\n",
       "      <td>0.005814</td>\n",
       "      <td>0.032341</td>\n",
       "      <td>-0.409787</td>\n",
       "      <td>-0.37926</td>\n",
       "      <td>-0.43431</td>\n",
       "      <td>0.000073</td>\n",
       "      <td>0.008520</td>\n",
       "      <td>0.431012</td>\n",
       "      <td>1</td>\n",
       "    </tr>\n",
       "    <tr>\n",
       "      <th>1918</th>\n",
       "      <td>2.620167</td>\n",
       "      <td>2.6589</td>\n",
       "      <td>2.5781</td>\n",
       "      <td>0.000216</td>\n",
       "      <td>0.014691</td>\n",
       "      <td>-0.114904</td>\n",
       "      <td>-9.397014</td>\n",
       "      <td>-9.3649</td>\n",
       "      <td>-9.4539</td>\n",
       "      <td>0.000257</td>\n",
       "      <td>...</td>\n",
       "      <td>0.000090</td>\n",
       "      <td>0.009510</td>\n",
       "      <td>0.409508</td>\n",
       "      <td>-0.409101</td>\n",
       "      <td>-0.36074</td>\n",
       "      <td>-0.44087</td>\n",
       "      <td>0.000113</td>\n",
       "      <td>0.010620</td>\n",
       "      <td>1.368666</td>\n",
       "      <td>1</td>\n",
       "    </tr>\n",
       "    <tr>\n",
       "      <th>1919</th>\n",
       "      <td>2.615565</td>\n",
       "      <td>2.6789</td>\n",
       "      <td>2.5734</td>\n",
       "      <td>0.000310</td>\n",
       "      <td>0.017610</td>\n",
       "      <td>0.608394</td>\n",
       "      <td>-9.398614</td>\n",
       "      <td>-9.3661</td>\n",
       "      <td>-9.4279</td>\n",
       "      <td>0.000167</td>\n",
       "      <td>...</td>\n",
       "      <td>0.000097</td>\n",
       "      <td>0.009874</td>\n",
       "      <td>0.413339</td>\n",
       "      <td>-0.410440</td>\n",
       "      <td>-0.38588</td>\n",
       "      <td>-0.43841</td>\n",
       "      <td>0.000072</td>\n",
       "      <td>0.008495</td>\n",
       "      <td>0.054973</td>\n",
       "      <td>1</td>\n",
       "    </tr>\n",
       "  </tbody>\n",
       "</table>\n",
       "<p>5 rows × 271 columns</p>\n",
       "</div>"
      ],
      "text/plain": [
       "      T_xacc_mean  T_xacc_max  T_xacc_min  T_xacc_var  T_xacc_std  \\\n",
       "1915     2.620502      2.6592      2.5891    0.000199    0.014113   \n",
       "1916     2.613423      2.6572      2.5815    0.000207    0.014387   \n",
       "1917     2.614750      2.6576      2.5654    0.000257    0.016018   \n",
       "1918     2.620167      2.6589      2.5781    0.000216    0.014691   \n",
       "1919     2.615565      2.6789      2.5734    0.000310    0.017610   \n",
       "\n",
       "      T_xacc_skew  T_yacc_mean  T_yacc_max  T_yacc_min  T_yacc_var  ...  \\\n",
       "1915     0.148452    -9.392025     -9.3424     -9.4207    0.000242  ...   \n",
       "1916     0.368746    -9.398851     -9.3657     -9.4356    0.000156  ...   \n",
       "1917    -0.007991    -9.397350     -9.3628     -9.4313    0.000214  ...   \n",
       "1918    -0.114904    -9.397014     -9.3649     -9.4539    0.000257  ...   \n",
       "1919     0.608394    -9.398614     -9.3661     -9.4279    0.000167  ...   \n",
       "\n",
       "      LL_ymag_var  LL_ymag_std  LL_ymag_skew  LL_zmag_mean  LL_zmag_max  \\\n",
       "1915     0.000092     0.009589      0.401254     -0.410987     -0.38221   \n",
       "1916     0.000074     0.008588      0.147180     -0.411248     -0.36581   \n",
       "1917     0.000034     0.005814      0.032341     -0.409787     -0.37926   \n",
       "1918     0.000090     0.009510      0.409508     -0.409101     -0.36074   \n",
       "1919     0.000097     0.009874      0.413339     -0.410440     -0.38588   \n",
       "\n",
       "      LL_zmag_min  LL_zmag_var  LL_zmag_std  LL_zmag_skew  activity  \n",
       "1915     -0.44605     0.000099     0.009967     -0.597598         1  \n",
       "1916     -0.43676     0.000087     0.009306      1.021454         1  \n",
       "1917     -0.43431     0.000073     0.008520      0.431012         1  \n",
       "1918     -0.44087     0.000113     0.010620      1.368666         1  \n",
       "1919     -0.43841     0.000072     0.008495      0.054973         1  \n",
       "\n",
       "[5 rows x 271 columns]"
      ]
     },
     "execution_count": 402,
     "metadata": {},
     "output_type": "execute_result"
    }
   ],
   "source": [
    "df_data.tail()"
   ]
  },
  {
   "cell_type": "code",
   "execution_count": 403,
   "id": "38fa0c70-6011-4828-9397-592f9beed573",
   "metadata": {},
   "outputs": [],
   "source": [
    "df_data['activity'] = df_data['activity'].apply(lambda x: 0 if x in [0, 1] else 1)"
   ]
  },
  {
   "cell_type": "code",
   "execution_count": 404,
   "id": "c87350db-3723-4550-9de0-c8f7b808dcf8",
   "metadata": {},
   "outputs": [
    {
     "data": {
      "text/html": [
       "<div>\n",
       "<style scoped>\n",
       "    .dataframe tbody tr th:only-of-type {\n",
       "        vertical-align: middle;\n",
       "    }\n",
       "\n",
       "    .dataframe tbody tr th {\n",
       "        vertical-align: top;\n",
       "    }\n",
       "\n",
       "    .dataframe thead th {\n",
       "        text-align: right;\n",
       "    }\n",
       "</style>\n",
       "<table border=\"1\" class=\"dataframe\">\n",
       "  <thead>\n",
       "    <tr style=\"text-align: right;\">\n",
       "      <th></th>\n",
       "      <th>T_xacc_mean</th>\n",
       "      <th>T_xacc_max</th>\n",
       "      <th>T_xacc_min</th>\n",
       "      <th>T_xacc_var</th>\n",
       "      <th>T_xacc_std</th>\n",
       "      <th>T_xacc_skew</th>\n",
       "      <th>T_yacc_mean</th>\n",
       "      <th>T_yacc_max</th>\n",
       "      <th>T_yacc_min</th>\n",
       "      <th>T_yacc_var</th>\n",
       "      <th>...</th>\n",
       "      <th>LL_ymag_var</th>\n",
       "      <th>LL_ymag_std</th>\n",
       "      <th>LL_ymag_skew</th>\n",
       "      <th>LL_zmag_mean</th>\n",
       "      <th>LL_zmag_max</th>\n",
       "      <th>LL_zmag_min</th>\n",
       "      <th>LL_zmag_var</th>\n",
       "      <th>LL_zmag_std</th>\n",
       "      <th>LL_zmag_skew</th>\n",
       "      <th>activity</th>\n",
       "    </tr>\n",
       "  </thead>\n",
       "  <tbody>\n",
       "    <tr>\n",
       "      <th>480</th>\n",
       "      <td>8.416815</td>\n",
       "      <td>8.5783</td>\n",
       "      <td>8.3103</td>\n",
       "      <td>0.002356</td>\n",
       "      <td>0.048537</td>\n",
       "      <td>0.867785</td>\n",
       "      <td>0.571528</td>\n",
       "      <td>0.73677</td>\n",
       "      <td>0.35819</td>\n",
       "      <td>0.004036</td>\n",
       "      <td>...</td>\n",
       "      <td>1.278649e-06</td>\n",
       "      <td>0.001131</td>\n",
       "      <td>0.243260</td>\n",
       "      <td>0.644246</td>\n",
       "      <td>0.64700</td>\n",
       "      <td>0.64109</td>\n",
       "      <td>0.000002</td>\n",
       "      <td>0.001313</td>\n",
       "      <td>-0.184083</td>\n",
       "      <td>1</td>\n",
       "    </tr>\n",
       "    <tr>\n",
       "      <th>481</th>\n",
       "      <td>8.439497</td>\n",
       "      <td>8.6153</td>\n",
       "      <td>8.1908</td>\n",
       "      <td>0.005754</td>\n",
       "      <td>0.075855</td>\n",
       "      <td>0.092156</td>\n",
       "      <td>0.499881</td>\n",
       "      <td>0.63267</td>\n",
       "      <td>0.32807</td>\n",
       "      <td>0.004515</td>\n",
       "      <td>...</td>\n",
       "      <td>2.816324e-06</td>\n",
       "      <td>0.001678</td>\n",
       "      <td>0.391596</td>\n",
       "      <td>0.643432</td>\n",
       "      <td>0.64789</td>\n",
       "      <td>0.63942</td>\n",
       "      <td>0.000003</td>\n",
       "      <td>0.001805</td>\n",
       "      <td>0.239917</td>\n",
       "      <td>1</td>\n",
       "    </tr>\n",
       "    <tr>\n",
       "      <th>482</th>\n",
       "      <td>8.442786</td>\n",
       "      <td>8.5184</td>\n",
       "      <td>8.3690</td>\n",
       "      <td>0.000786</td>\n",
       "      <td>0.028033</td>\n",
       "      <td>0.096127</td>\n",
       "      <td>0.429967</td>\n",
       "      <td>0.59482</td>\n",
       "      <td>0.32835</td>\n",
       "      <td>0.001260</td>\n",
       "      <td>...</td>\n",
       "      <td>1.760422e-06</td>\n",
       "      <td>0.001327</td>\n",
       "      <td>0.753549</td>\n",
       "      <td>0.643036</td>\n",
       "      <td>0.64646</td>\n",
       "      <td>0.64019</td>\n",
       "      <td>0.000002</td>\n",
       "      <td>0.001447</td>\n",
       "      <td>0.178525</td>\n",
       "      <td>1</td>\n",
       "    </tr>\n",
       "    <tr>\n",
       "      <th>483</th>\n",
       "      <td>8.444243</td>\n",
       "      <td>8.5480</td>\n",
       "      <td>8.3692</td>\n",
       "      <td>0.001558</td>\n",
       "      <td>0.039470</td>\n",
       "      <td>0.361301</td>\n",
       "      <td>0.414673</td>\n",
       "      <td>0.49073</td>\n",
       "      <td>0.33563</td>\n",
       "      <td>0.000867</td>\n",
       "      <td>...</td>\n",
       "      <td>1.218089e-05</td>\n",
       "      <td>0.003490</td>\n",
       "      <td>0.178568</td>\n",
       "      <td>0.643370</td>\n",
       "      <td>0.64657</td>\n",
       "      <td>0.64004</td>\n",
       "      <td>0.000003</td>\n",
       "      <td>0.001771</td>\n",
       "      <td>0.080492</td>\n",
       "      <td>1</td>\n",
       "    </tr>\n",
       "    <tr>\n",
       "      <th>484</th>\n",
       "      <td>8.347373</td>\n",
       "      <td>8.4138</td>\n",
       "      <td>8.2791</td>\n",
       "      <td>0.000774</td>\n",
       "      <td>0.027822</td>\n",
       "      <td>0.018596</td>\n",
       "      <td>0.441606</td>\n",
       "      <td>0.52153</td>\n",
       "      <td>0.37246</td>\n",
       "      <td>0.001067</td>\n",
       "      <td>...</td>\n",
       "      <td>8.834185e-07</td>\n",
       "      <td>0.000940</td>\n",
       "      <td>-0.237978</td>\n",
       "      <td>0.643874</td>\n",
       "      <td>0.64611</td>\n",
       "      <td>0.64063</td>\n",
       "      <td>0.000001</td>\n",
       "      <td>0.001219</td>\n",
       "      <td>-0.291443</td>\n",
       "      <td>1</td>\n",
       "    </tr>\n",
       "  </tbody>\n",
       "</table>\n",
       "<p>5 rows × 271 columns</p>\n",
       "</div>"
      ],
      "text/plain": [
       "     T_xacc_mean  T_xacc_max  T_xacc_min  T_xacc_var  T_xacc_std  T_xacc_skew  \\\n",
       "480     8.416815      8.5783      8.3103    0.002356    0.048537     0.867785   \n",
       "481     8.439497      8.6153      8.1908    0.005754    0.075855     0.092156   \n",
       "482     8.442786      8.5184      8.3690    0.000786    0.028033     0.096127   \n",
       "483     8.444243      8.5480      8.3692    0.001558    0.039470     0.361301   \n",
       "484     8.347373      8.4138      8.2791    0.000774    0.027822     0.018596   \n",
       "\n",
       "     T_yacc_mean  T_yacc_max  T_yacc_min  T_yacc_var  ...   LL_ymag_var  \\\n",
       "480     0.571528     0.73677     0.35819    0.004036  ...  1.278649e-06   \n",
       "481     0.499881     0.63267     0.32807    0.004515  ...  2.816324e-06   \n",
       "482     0.429967     0.59482     0.32835    0.001260  ...  1.760422e-06   \n",
       "483     0.414673     0.49073     0.33563    0.000867  ...  1.218089e-05   \n",
       "484     0.441606     0.52153     0.37246    0.001067  ...  8.834185e-07   \n",
       "\n",
       "     LL_ymag_std  LL_ymag_skew  LL_zmag_mean  LL_zmag_max  LL_zmag_min  \\\n",
       "480     0.001131      0.243260      0.644246      0.64700      0.64109   \n",
       "481     0.001678      0.391596      0.643432      0.64789      0.63942   \n",
       "482     0.001327      0.753549      0.643036      0.64646      0.64019   \n",
       "483     0.003490      0.178568      0.643370      0.64657      0.64004   \n",
       "484     0.000940     -0.237978      0.643874      0.64611      0.64063   \n",
       "\n",
       "     LL_zmag_var  LL_zmag_std  LL_zmag_skew  activity  \n",
       "480     0.000002     0.001313     -0.184083         1  \n",
       "481     0.000003     0.001805      0.239917         1  \n",
       "482     0.000002     0.001447      0.178525         1  \n",
       "483     0.000003     0.001771      0.080492         1  \n",
       "484     0.000001     0.001219     -0.291443         1  \n",
       "\n",
       "[5 rows x 271 columns]"
      ]
     },
     "execution_count": 404,
     "metadata": {},
     "output_type": "execute_result"
    }
   ],
   "source": [
    "df_data.head()"
   ]
  },
  {
   "cell_type": "code",
   "execution_count": 405,
   "id": "f9d36f83-f557-4747-b21e-f568f85b579d",
   "metadata": {},
   "outputs": [
    {
     "data": {
      "text/html": [
       "<div>\n",
       "<style scoped>\n",
       "    .dataframe tbody tr th:only-of-type {\n",
       "        vertical-align: middle;\n",
       "    }\n",
       "\n",
       "    .dataframe tbody tr th {\n",
       "        vertical-align: top;\n",
       "    }\n",
       "\n",
       "    .dataframe thead th {\n",
       "        text-align: right;\n",
       "    }\n",
       "</style>\n",
       "<table border=\"1\" class=\"dataframe\">\n",
       "  <thead>\n",
       "    <tr style=\"text-align: right;\">\n",
       "      <th></th>\n",
       "      <th>T_xacc_mean</th>\n",
       "      <th>T_xacc_max</th>\n",
       "      <th>T_xacc_min</th>\n",
       "      <th>T_xacc_var</th>\n",
       "      <th>T_xacc_std</th>\n",
       "      <th>T_xacc_skew</th>\n",
       "      <th>T_yacc_mean</th>\n",
       "      <th>T_yacc_max</th>\n",
       "      <th>T_yacc_min</th>\n",
       "      <th>T_yacc_var</th>\n",
       "      <th>...</th>\n",
       "      <th>LL_ymag_var</th>\n",
       "      <th>LL_ymag_std</th>\n",
       "      <th>LL_ymag_skew</th>\n",
       "      <th>LL_zmag_mean</th>\n",
       "      <th>LL_zmag_max</th>\n",
       "      <th>LL_zmag_min</th>\n",
       "      <th>LL_zmag_var</th>\n",
       "      <th>LL_zmag_std</th>\n",
       "      <th>LL_zmag_skew</th>\n",
       "      <th>activity</th>\n",
       "    </tr>\n",
       "  </thead>\n",
       "  <tbody>\n",
       "    <tr>\n",
       "      <th>1915</th>\n",
       "      <td>2.620502</td>\n",
       "      <td>2.6592</td>\n",
       "      <td>2.5891</td>\n",
       "      <td>0.000199</td>\n",
       "      <td>0.014113</td>\n",
       "      <td>0.148452</td>\n",
       "      <td>-9.392025</td>\n",
       "      <td>-9.3424</td>\n",
       "      <td>-9.4207</td>\n",
       "      <td>0.000242</td>\n",
       "      <td>...</td>\n",
       "      <td>0.000092</td>\n",
       "      <td>0.009589</td>\n",
       "      <td>0.401254</td>\n",
       "      <td>-0.410987</td>\n",
       "      <td>-0.38221</td>\n",
       "      <td>-0.44605</td>\n",
       "      <td>0.000099</td>\n",
       "      <td>0.009967</td>\n",
       "      <td>-0.597598</td>\n",
       "      <td>0</td>\n",
       "    </tr>\n",
       "    <tr>\n",
       "      <th>1916</th>\n",
       "      <td>2.613423</td>\n",
       "      <td>2.6572</td>\n",
       "      <td>2.5815</td>\n",
       "      <td>0.000207</td>\n",
       "      <td>0.014387</td>\n",
       "      <td>0.368746</td>\n",
       "      <td>-9.398851</td>\n",
       "      <td>-9.3657</td>\n",
       "      <td>-9.4356</td>\n",
       "      <td>0.000156</td>\n",
       "      <td>...</td>\n",
       "      <td>0.000074</td>\n",
       "      <td>0.008588</td>\n",
       "      <td>0.147180</td>\n",
       "      <td>-0.411248</td>\n",
       "      <td>-0.36581</td>\n",
       "      <td>-0.43676</td>\n",
       "      <td>0.000087</td>\n",
       "      <td>0.009306</td>\n",
       "      <td>1.021454</td>\n",
       "      <td>0</td>\n",
       "    </tr>\n",
       "    <tr>\n",
       "      <th>1917</th>\n",
       "      <td>2.614750</td>\n",
       "      <td>2.6576</td>\n",
       "      <td>2.5654</td>\n",
       "      <td>0.000257</td>\n",
       "      <td>0.016018</td>\n",
       "      <td>-0.007991</td>\n",
       "      <td>-9.397350</td>\n",
       "      <td>-9.3628</td>\n",
       "      <td>-9.4313</td>\n",
       "      <td>0.000214</td>\n",
       "      <td>...</td>\n",
       "      <td>0.000034</td>\n",
       "      <td>0.005814</td>\n",
       "      <td>0.032341</td>\n",
       "      <td>-0.409787</td>\n",
       "      <td>-0.37926</td>\n",
       "      <td>-0.43431</td>\n",
       "      <td>0.000073</td>\n",
       "      <td>0.008520</td>\n",
       "      <td>0.431012</td>\n",
       "      <td>0</td>\n",
       "    </tr>\n",
       "    <tr>\n",
       "      <th>1918</th>\n",
       "      <td>2.620167</td>\n",
       "      <td>2.6589</td>\n",
       "      <td>2.5781</td>\n",
       "      <td>0.000216</td>\n",
       "      <td>0.014691</td>\n",
       "      <td>-0.114904</td>\n",
       "      <td>-9.397014</td>\n",
       "      <td>-9.3649</td>\n",
       "      <td>-9.4539</td>\n",
       "      <td>0.000257</td>\n",
       "      <td>...</td>\n",
       "      <td>0.000090</td>\n",
       "      <td>0.009510</td>\n",
       "      <td>0.409508</td>\n",
       "      <td>-0.409101</td>\n",
       "      <td>-0.36074</td>\n",
       "      <td>-0.44087</td>\n",
       "      <td>0.000113</td>\n",
       "      <td>0.010620</td>\n",
       "      <td>1.368666</td>\n",
       "      <td>0</td>\n",
       "    </tr>\n",
       "    <tr>\n",
       "      <th>1919</th>\n",
       "      <td>2.615565</td>\n",
       "      <td>2.6789</td>\n",
       "      <td>2.5734</td>\n",
       "      <td>0.000310</td>\n",
       "      <td>0.017610</td>\n",
       "      <td>0.608394</td>\n",
       "      <td>-9.398614</td>\n",
       "      <td>-9.3661</td>\n",
       "      <td>-9.4279</td>\n",
       "      <td>0.000167</td>\n",
       "      <td>...</td>\n",
       "      <td>0.000097</td>\n",
       "      <td>0.009874</td>\n",
       "      <td>0.413339</td>\n",
       "      <td>-0.410440</td>\n",
       "      <td>-0.38588</td>\n",
       "      <td>-0.43841</td>\n",
       "      <td>0.000072</td>\n",
       "      <td>0.008495</td>\n",
       "      <td>0.054973</td>\n",
       "      <td>0</td>\n",
       "    </tr>\n",
       "  </tbody>\n",
       "</table>\n",
       "<p>5 rows × 271 columns</p>\n",
       "</div>"
      ],
      "text/plain": [
       "      T_xacc_mean  T_xacc_max  T_xacc_min  T_xacc_var  T_xacc_std  \\\n",
       "1915     2.620502      2.6592      2.5891    0.000199    0.014113   \n",
       "1916     2.613423      2.6572      2.5815    0.000207    0.014387   \n",
       "1917     2.614750      2.6576      2.5654    0.000257    0.016018   \n",
       "1918     2.620167      2.6589      2.5781    0.000216    0.014691   \n",
       "1919     2.615565      2.6789      2.5734    0.000310    0.017610   \n",
       "\n",
       "      T_xacc_skew  T_yacc_mean  T_yacc_max  T_yacc_min  T_yacc_var  ...  \\\n",
       "1915     0.148452    -9.392025     -9.3424     -9.4207    0.000242  ...   \n",
       "1916     0.368746    -9.398851     -9.3657     -9.4356    0.000156  ...   \n",
       "1917    -0.007991    -9.397350     -9.3628     -9.4313    0.000214  ...   \n",
       "1918    -0.114904    -9.397014     -9.3649     -9.4539    0.000257  ...   \n",
       "1919     0.608394    -9.398614     -9.3661     -9.4279    0.000167  ...   \n",
       "\n",
       "      LL_ymag_var  LL_ymag_std  LL_ymag_skew  LL_zmag_mean  LL_zmag_max  \\\n",
       "1915     0.000092     0.009589      0.401254     -0.410987     -0.38221   \n",
       "1916     0.000074     0.008588      0.147180     -0.411248     -0.36581   \n",
       "1917     0.000034     0.005814      0.032341     -0.409787     -0.37926   \n",
       "1918     0.000090     0.009510      0.409508     -0.409101     -0.36074   \n",
       "1919     0.000097     0.009874      0.413339     -0.410440     -0.38588   \n",
       "\n",
       "      LL_zmag_min  LL_zmag_var  LL_zmag_std  LL_zmag_skew  activity  \n",
       "1915     -0.44605     0.000099     0.009967     -0.597598         0  \n",
       "1916     -0.43676     0.000087     0.009306      1.021454         0  \n",
       "1917     -0.43431     0.000073     0.008520      0.431012         0  \n",
       "1918     -0.44087     0.000113     0.010620      1.368666         0  \n",
       "1919     -0.43841     0.000072     0.008495      0.054973         0  \n",
       "\n",
       "[5 rows x 271 columns]"
      ]
     },
     "execution_count": 405,
     "metadata": {},
     "output_type": "execute_result"
    }
   ],
   "source": [
    "df_data.tail()"
   ]
  },
  {
   "cell_type": "code",
   "execution_count": 406,
   "id": "953ff1b2-babe-44ce-b948-2aea21ed8386",
   "metadata": {},
   "outputs": [
    {
     "data": {
      "text/plain": [
       "activity\n",
       "0    960\n",
       "1    480\n",
       "Name: count, dtype: int64"
      ]
     },
     "execution_count": 406,
     "metadata": {},
     "output_type": "execute_result"
    }
   ],
   "source": [
    "df_data[\"activity\"].value_counts()"
   ]
  },
  {
   "cell_type": "code",
   "execution_count": 407,
   "id": "3a50a833-3e76-428c-bc71-a8b320153eef",
   "metadata": {},
   "outputs": [
    {
     "data": {
      "text/plain": [
       "(763, 270)"
      ]
     },
     "execution_count": 407,
     "metadata": {},
     "output_type": "execute_result"
    }
   ],
   "source": [
    "\n",
    "X_train, X_test = train_test_split(df_data, test_size=0.2, random_state=42)\n",
    "\n",
    "X_train = X_train[X_train.activity == 0]\n",
    "X_train = X_train.drop(['activity'], axis=1)\n",
    "\n",
    "y_test = X_test['activity']\n",
    "X_test = X_test.drop(['activity'], axis=1)\n",
    "\n",
    "\n",
    "X_train.shape"
   ]
  },
  {
   "cell_type": "markdown",
   "id": "502dc079-5f5f-4152-a241-303c1855e664",
   "metadata": {},
   "source": [
    "linear AE"
   ]
  },
  {
   "cell_type": "code",
   "execution_count": 409,
   "id": "8b7840c9-ecb1-4f20-9fa6-34ffe5d1ec5e",
   "metadata": {},
   "outputs": [
    {
     "data": {
      "text/html": [
       "<pre style=\"white-space:pre;overflow-x:auto;line-height:normal;font-family:Menlo,'DejaVu Sans Mono',consolas,'Courier New',monospace\"><span style=\"font-weight: bold\">Model: \"functional_23\"</span>\n",
       "</pre>\n"
      ],
      "text/plain": [
       "\u001b[1mModel: \"functional_23\"\u001b[0m\n"
      ]
     },
     "metadata": {},
     "output_type": "display_data"
    },
    {
     "data": {
      "text/html": [
       "<pre style=\"white-space:pre;overflow-x:auto;line-height:normal;font-family:Menlo,'DejaVu Sans Mono',consolas,'Courier New',monospace\">┏━━━━━━━━━━━━━━━━━━━━━━━━━━━━━━━━━━━━━━┳━━━━━━━━━━━━━━━━━━━━━━━━━━━━━┳━━━━━━━━━━━━━━━━━┓\n",
       "┃<span style=\"font-weight: bold\"> Layer (type)                         </span>┃<span style=\"font-weight: bold\"> Output Shape                </span>┃<span style=\"font-weight: bold\">         Param # </span>┃\n",
       "┡━━━━━━━━━━━━━━━━━━━━━━━━━━━━━━━━━━━━━━╇━━━━━━━━━━━━━━━━━━━━━━━━━━━━━╇━━━━━━━━━━━━━━━━━┩\n",
       "│ input_layer_17 (<span style=\"color: #0087ff; text-decoration-color: #0087ff\">InputLayer</span>)          │ (<span style=\"color: #00d7ff; text-decoration-color: #00d7ff\">None</span>, <span style=\"color: #00af00; text-decoration-color: #00af00\">270</span>)                 │               <span style=\"color: #00af00; text-decoration-color: #00af00\">0</span> │\n",
       "├──────────────────────────────────────┼─────────────────────────────┼─────────────────┤\n",
       "│ dense_84 (<span style=\"color: #0087ff; text-decoration-color: #0087ff\">Dense</span>)                     │ (<span style=\"color: #00d7ff; text-decoration-color: #00d7ff\">None</span>, <span style=\"color: #00af00; text-decoration-color: #00af00\">32</span>)                  │           <span style=\"color: #00af00; text-decoration-color: #00af00\">8,672</span> │\n",
       "├──────────────────────────────────────┼─────────────────────────────┼─────────────────┤\n",
       "│ dense_85 (<span style=\"color: #0087ff; text-decoration-color: #0087ff\">Dense</span>)                     │ (<span style=\"color: #00d7ff; text-decoration-color: #00d7ff\">None</span>, <span style=\"color: #00af00; text-decoration-color: #00af00\">16</span>)                  │             <span style=\"color: #00af00; text-decoration-color: #00af00\">528</span> │\n",
       "├──────────────────────────────────────┼─────────────────────────────┼─────────────────┤\n",
       "│ dense_86 (<span style=\"color: #0087ff; text-decoration-color: #0087ff\">Dense</span>)                     │ (<span style=\"color: #00d7ff; text-decoration-color: #00d7ff\">None</span>, <span style=\"color: #00af00; text-decoration-color: #00af00\">32</span>)                  │             <span style=\"color: #00af00; text-decoration-color: #00af00\">544</span> │\n",
       "├──────────────────────────────────────┼─────────────────────────────┼─────────────────┤\n",
       "│ dense_88 (<span style=\"color: #0087ff; text-decoration-color: #0087ff\">Dense</span>)                     │ (<span style=\"color: #00d7ff; text-decoration-color: #00d7ff\">None</span>, <span style=\"color: #00af00; text-decoration-color: #00af00\">16</span>)                  │             <span style=\"color: #00af00; text-decoration-color: #00af00\">528</span> │\n",
       "├──────────────────────────────────────┼─────────────────────────────┼─────────────────┤\n",
       "│ dense_89 (<span style=\"color: #0087ff; text-decoration-color: #0087ff\">Dense</span>)                     │ (<span style=\"color: #00d7ff; text-decoration-color: #00d7ff\">None</span>, <span style=\"color: #00af00; text-decoration-color: #00af00\">270</span>)                 │           <span style=\"color: #00af00; text-decoration-color: #00af00\">4,590</span> │\n",
       "└──────────────────────────────────────┴─────────────────────────────┴─────────────────┘\n",
       "</pre>\n"
      ],
      "text/plain": [
       "┏━━━━━━━━━━━━━━━━━━━━━━━━━━━━━━━━━━━━━━┳━━━━━━━━━━━━━━━━━━━━━━━━━━━━━┳━━━━━━━━━━━━━━━━━┓\n",
       "┃\u001b[1m \u001b[0m\u001b[1mLayer (type)                        \u001b[0m\u001b[1m \u001b[0m┃\u001b[1m \u001b[0m\u001b[1mOutput Shape               \u001b[0m\u001b[1m \u001b[0m┃\u001b[1m \u001b[0m\u001b[1m        Param #\u001b[0m\u001b[1m \u001b[0m┃\n",
       "┡━━━━━━━━━━━━━━━━━━━━━━━━━━━━━━━━━━━━━━╇━━━━━━━━━━━━━━━━━━━━━━━━━━━━━╇━━━━━━━━━━━━━━━━━┩\n",
       "│ input_layer_17 (\u001b[38;5;33mInputLayer\u001b[0m)          │ (\u001b[38;5;45mNone\u001b[0m, \u001b[38;5;34m270\u001b[0m)                 │               \u001b[38;5;34m0\u001b[0m │\n",
       "├──────────────────────────────────────┼─────────────────────────────┼─────────────────┤\n",
       "│ dense_84 (\u001b[38;5;33mDense\u001b[0m)                     │ (\u001b[38;5;45mNone\u001b[0m, \u001b[38;5;34m32\u001b[0m)                  │           \u001b[38;5;34m8,672\u001b[0m │\n",
       "├──────────────────────────────────────┼─────────────────────────────┼─────────────────┤\n",
       "│ dense_85 (\u001b[38;5;33mDense\u001b[0m)                     │ (\u001b[38;5;45mNone\u001b[0m, \u001b[38;5;34m16\u001b[0m)                  │             \u001b[38;5;34m528\u001b[0m │\n",
       "├──────────────────────────────────────┼─────────────────────────────┼─────────────────┤\n",
       "│ dense_86 (\u001b[38;5;33mDense\u001b[0m)                     │ (\u001b[38;5;45mNone\u001b[0m, \u001b[38;5;34m32\u001b[0m)                  │             \u001b[38;5;34m544\u001b[0m │\n",
       "├──────────────────────────────────────┼─────────────────────────────┼─────────────────┤\n",
       "│ dense_88 (\u001b[38;5;33mDense\u001b[0m)                     │ (\u001b[38;5;45mNone\u001b[0m, \u001b[38;5;34m16\u001b[0m)                  │             \u001b[38;5;34m528\u001b[0m │\n",
       "├──────────────────────────────────────┼─────────────────────────────┼─────────────────┤\n",
       "│ dense_89 (\u001b[38;5;33mDense\u001b[0m)                     │ (\u001b[38;5;45mNone\u001b[0m, \u001b[38;5;34m270\u001b[0m)                 │           \u001b[38;5;34m4,590\u001b[0m │\n",
       "└──────────────────────────────────────┴─────────────────────────────┴─────────────────┘\n"
      ]
     },
     "metadata": {},
     "output_type": "display_data"
    },
    {
     "data": {
      "text/html": [
       "<pre style=\"white-space:pre;overflow-x:auto;line-height:normal;font-family:Menlo,'DejaVu Sans Mono',consolas,'Courier New',monospace\"><span style=\"font-weight: bold\"> Total params: </span><span style=\"color: #00af00; text-decoration-color: #00af00\">14,862</span> (58.05 KB)\n",
       "</pre>\n"
      ],
      "text/plain": [
       "\u001b[1m Total params: \u001b[0m\u001b[38;5;34m14,862\u001b[0m (58.05 KB)\n"
      ]
     },
     "metadata": {},
     "output_type": "display_data"
    },
    {
     "data": {
      "text/html": [
       "<pre style=\"white-space:pre;overflow-x:auto;line-height:normal;font-family:Menlo,'DejaVu Sans Mono',consolas,'Courier New',monospace\"><span style=\"font-weight: bold\"> Trainable params: </span><span style=\"color: #00af00; text-decoration-color: #00af00\">14,862</span> (58.05 KB)\n",
       "</pre>\n"
      ],
      "text/plain": [
       "\u001b[1m Trainable params: \u001b[0m\u001b[38;5;34m14,862\u001b[0m (58.05 KB)\n"
      ]
     },
     "metadata": {},
     "output_type": "display_data"
    },
    {
     "data": {
      "text/html": [
       "<pre style=\"white-space:pre;overflow-x:auto;line-height:normal;font-family:Menlo,'DejaVu Sans Mono',consolas,'Courier New',monospace\"><span style=\"font-weight: bold\"> Non-trainable params: </span><span style=\"color: #00af00; text-decoration-color: #00af00\">0</span> (0.00 B)\n",
       "</pre>\n"
      ],
      "text/plain": [
       "\u001b[1m Non-trainable params: \u001b[0m\u001b[38;5;34m0\u001b[0m (0.00 B)\n"
      ]
     },
     "metadata": {},
     "output_type": "display_data"
    }
   ],
   "source": [
    "input_dim = X_train.shape[1]  # 입력 차원 (특성 수)\n",
    "encoding_dim = 32\n",
    "\n",
    "# 입력 레이어\n",
    "input_layer = Input(shape=(input_dim,))\n",
    "\n",
    "# 인코더: 점진적으로 차원 축소\n",
    "encoded = Dense(encoding_dim, activation='relu')(input_layer)\n",
    "encoded = Dense(int(encoding_dim / 2), activation='relu')(encoded)\n",
    "encoded = Dense(int(encoding_dim), activation='relu')(encoded)\n",
    "\n",
    "# 디코더: 점진적으로 차원 확장\n",
    "decoded = Dense(int(encoding_dim), activation='relu')(encoded)\n",
    "decoded = Dense(int(encoding_dim / 2), activation='relu')(encoded)\n",
    "decoded = Dense(input_dim, activation='sigmoid')(decoded)  # 입력 차원으로 복원\n",
    "\n",
    "# 오토인코더 모델 구성\n",
    "autoencoder = Model(inputs=input_layer, outputs=decoded)\n",
    "\n",
    "# 모델 컴파일\n",
    "autoencoder.compile(optimizer=Adam(learning_rate=0.001), loss='mse')\n",
    "\n",
    "# 모델 요약 출력\n",
    "autoencoder.summary()"
   ]
  },
  {
   "cell_type": "code",
   "execution_count": 410,
   "id": "4df9b8a1-7332-4285-b43b-ff16ef843dfd",
   "metadata": {},
   "outputs": [
    {
     "name": "stdout",
     "output_type": "stream",
     "text": [
      "Epoch 1/50\n",
      "\u001b[1m3/3\u001b[0m \u001b[32m━━━━━━━━━━━━━━━━━━━━\u001b[0m\u001b[37m\u001b[0m \u001b[1m2s\u001b[0m 94ms/step - loss: 5.8165 - val_loss: 5.7561\n",
      "Epoch 2/50\n",
      "\u001b[1m3/3\u001b[0m \u001b[32m━━━━━━━━━━━━━━━━━━━━\u001b[0m\u001b[37m\u001b[0m \u001b[1m0s\u001b[0m 18ms/step - loss: 5.7406 - val_loss: 5.7444\n",
      "Epoch 3/50\n",
      "\u001b[1m3/3\u001b[0m \u001b[32m━━━━━━━━━━━━━━━━━━━━\u001b[0m\u001b[37m\u001b[0m \u001b[1m0s\u001b[0m 18ms/step - loss: 5.7679 - val_loss: 5.7301\n",
      "Epoch 4/50\n",
      "\u001b[1m3/3\u001b[0m \u001b[32m━━━━━━━━━━━━━━━━━━━━\u001b[0m\u001b[37m\u001b[0m \u001b[1m0s\u001b[0m 21ms/step - loss: 5.6909 - val_loss: 5.7102\n",
      "Epoch 5/50\n",
      "\u001b[1m3/3\u001b[0m \u001b[32m━━━━━━━━━━━━━━━━━━━━\u001b[0m\u001b[37m\u001b[0m \u001b[1m0s\u001b[0m 16ms/step - loss: 5.7250 - val_loss: 5.6821\n",
      "Epoch 6/50\n",
      "\u001b[1m3/3\u001b[0m \u001b[32m━━━━━━━━━━━━━━━━━━━━\u001b[0m\u001b[37m\u001b[0m \u001b[1m0s\u001b[0m 17ms/step - loss: 5.7087 - val_loss: 5.6437\n",
      "Epoch 7/50\n",
      "\u001b[1m3/3\u001b[0m \u001b[32m━━━━━━━━━━━━━━━━━━━━\u001b[0m\u001b[37m\u001b[0m \u001b[1m0s\u001b[0m 18ms/step - loss: 5.6399 - val_loss: 5.5936\n",
      "Epoch 8/50\n",
      "\u001b[1m3/3\u001b[0m \u001b[32m━━━━━━━━━━━━━━━━━━━━\u001b[0m\u001b[37m\u001b[0m \u001b[1m0s\u001b[0m 17ms/step - loss: 5.6343 - val_loss: 5.5329\n",
      "Epoch 9/50\n",
      "\u001b[1m3/3\u001b[0m \u001b[32m━━━━━━━━━━━━━━━━━━━━\u001b[0m\u001b[37m\u001b[0m \u001b[1m0s\u001b[0m 18ms/step - loss: 5.5308 - val_loss: 5.4635\n",
      "Epoch 10/50\n",
      "\u001b[1m3/3\u001b[0m \u001b[32m━━━━━━━━━━━━━━━━━━━━\u001b[0m\u001b[37m\u001b[0m \u001b[1m0s\u001b[0m 18ms/step - loss: 5.4923 - val_loss: 5.3874\n",
      "Epoch 11/50\n",
      "\u001b[1m3/3\u001b[0m \u001b[32m━━━━━━━━━━━━━━━━━━━━\u001b[0m\u001b[37m\u001b[0m \u001b[1m0s\u001b[0m 18ms/step - loss: 5.4260 - val_loss: 5.3079\n",
      "Epoch 12/50\n",
      "\u001b[1m3/3\u001b[0m \u001b[32m━━━━━━━━━━━━━━━━━━━━\u001b[0m\u001b[37m\u001b[0m \u001b[1m0s\u001b[0m 19ms/step - loss: 5.2874 - val_loss: 5.2314\n",
      "Epoch 13/50\n",
      "\u001b[1m3/3\u001b[0m \u001b[32m━━━━━━━━━━━━━━━━━━━━\u001b[0m\u001b[37m\u001b[0m \u001b[1m0s\u001b[0m 18ms/step - loss: 5.2732 - val_loss: 5.1621\n",
      "Epoch 14/50\n",
      "\u001b[1m3/3\u001b[0m \u001b[32m━━━━━━━━━━━━━━━━━━━━\u001b[0m\u001b[37m\u001b[0m \u001b[1m0s\u001b[0m 18ms/step - loss: 5.2105 - val_loss: 5.1029\n",
      "Epoch 15/50\n",
      "\u001b[1m3/3\u001b[0m \u001b[32m━━━━━━━━━━━━━━━━━━━━\u001b[0m\u001b[37m\u001b[0m \u001b[1m0s\u001b[0m 20ms/step - loss: 5.0673 - val_loss: 5.0558\n",
      "Epoch 16/50\n",
      "\u001b[1m3/3\u001b[0m \u001b[32m━━━━━━━━━━━━━━━━━━━━\u001b[0m\u001b[37m\u001b[0m \u001b[1m0s\u001b[0m 18ms/step - loss: 5.0621 - val_loss: 5.0189\n",
      "Epoch 17/50\n",
      "\u001b[1m3/3\u001b[0m \u001b[32m━━━━━━━━━━━━━━━━━━━━\u001b[0m\u001b[37m\u001b[0m \u001b[1m0s\u001b[0m 17ms/step - loss: 5.0715 - val_loss: 4.9923\n",
      "Epoch 18/50\n",
      "\u001b[1m3/3\u001b[0m \u001b[32m━━━━━━━━━━━━━━━━━━━━\u001b[0m\u001b[37m\u001b[0m \u001b[1m0s\u001b[0m 17ms/step - loss: 5.0212 - val_loss: 4.9731\n",
      "Epoch 19/50\n",
      "\u001b[1m3/3\u001b[0m \u001b[32m━━━━━━━━━━━━━━━━━━━━\u001b[0m\u001b[37m\u001b[0m \u001b[1m0s\u001b[0m 21ms/step - loss: 5.0039 - val_loss: 4.9599\n",
      "Epoch 20/50\n",
      "\u001b[1m3/3\u001b[0m \u001b[32m━━━━━━━━━━━━━━━━━━━━\u001b[0m\u001b[37m\u001b[0m \u001b[1m0s\u001b[0m 19ms/step - loss: 4.9866 - val_loss: 4.9504\n",
      "Epoch 21/50\n",
      "\u001b[1m3/3\u001b[0m \u001b[32m━━━━━━━━━━━━━━━━━━━━\u001b[0m\u001b[37m\u001b[0m \u001b[1m0s\u001b[0m 20ms/step - loss: 4.9135 - val_loss: 4.9431\n",
      "Epoch 22/50\n",
      "\u001b[1m3/3\u001b[0m \u001b[32m━━━━━━━━━━━━━━━━━━━━\u001b[0m\u001b[37m\u001b[0m \u001b[1m0s\u001b[0m 19ms/step - loss: 4.9534 - val_loss: 4.9365\n",
      "Epoch 23/50\n",
      "\u001b[1m3/3\u001b[0m \u001b[32m━━━━━━━━━━━━━━━━━━━━\u001b[0m\u001b[37m\u001b[0m \u001b[1m0s\u001b[0m 21ms/step - loss: 4.9052 - val_loss: 4.9284\n",
      "Epoch 24/50\n",
      "\u001b[1m3/3\u001b[0m \u001b[32m━━━━━━━━━━━━━━━━━━━━\u001b[0m\u001b[37m\u001b[0m \u001b[1m0s\u001b[0m 17ms/step - loss: 4.8880 - val_loss: 4.9211\n",
      "Epoch 25/50\n",
      "\u001b[1m3/3\u001b[0m \u001b[32m━━━━━━━━━━━━━━━━━━━━\u001b[0m\u001b[37m\u001b[0m \u001b[1m0s\u001b[0m 18ms/step - loss: 4.9090 - val_loss: 4.9150\n",
      "Epoch 26/50\n",
      "\u001b[1m3/3\u001b[0m \u001b[32m━━━━━━━━━━━━━━━━━━━━\u001b[0m\u001b[37m\u001b[0m \u001b[1m0s\u001b[0m 19ms/step - loss: 4.9702 - val_loss: 4.9108\n",
      "Epoch 27/50\n",
      "\u001b[1m3/3\u001b[0m \u001b[32m━━━━━━━━━━━━━━━━━━━━\u001b[0m\u001b[37m\u001b[0m \u001b[1m0s\u001b[0m 24ms/step - loss: 4.9478 - val_loss: 4.9078\n",
      "Epoch 28/50\n",
      "\u001b[1m3/3\u001b[0m \u001b[32m━━━━━━━━━━━━━━━━━━━━\u001b[0m\u001b[37m\u001b[0m \u001b[1m0s\u001b[0m 22ms/step - loss: 4.9096 - val_loss: 4.9056\n",
      "Epoch 29/50\n",
      "\u001b[1m3/3\u001b[0m \u001b[32m━━━━━━━━━━━━━━━━━━━━\u001b[0m\u001b[37m\u001b[0m \u001b[1m0s\u001b[0m 32ms/step - loss: 4.9127 - val_loss: 4.9037\n",
      "Epoch 30/50\n",
      "\u001b[1m3/3\u001b[0m \u001b[32m━━━━━━━━━━━━━━━━━━━━\u001b[0m\u001b[37m\u001b[0m \u001b[1m0s\u001b[0m 20ms/step - loss: 4.9568 - val_loss: 4.9023\n",
      "Epoch 31/50\n",
      "\u001b[1m3/3\u001b[0m \u001b[32m━━━━━━━━━━━━━━━━━━━━\u001b[0m\u001b[37m\u001b[0m \u001b[1m0s\u001b[0m 18ms/step - loss: 4.9135 - val_loss: 4.9013\n",
      "Epoch 32/50\n",
      "\u001b[1m3/3\u001b[0m \u001b[32m━━━━━━━━━━━━━━━━━━━━\u001b[0m\u001b[37m\u001b[0m \u001b[1m0s\u001b[0m 23ms/step - loss: 4.9338 - val_loss: 4.9005\n",
      "Epoch 33/50\n",
      "\u001b[1m3/3\u001b[0m \u001b[32m━━━━━━━━━━━━━━━━━━━━\u001b[0m\u001b[37m\u001b[0m \u001b[1m0s\u001b[0m 20ms/step - loss: 4.9470 - val_loss: 4.8998\n",
      "Epoch 34/50\n",
      "\u001b[1m3/3\u001b[0m \u001b[32m━━━━━━━━━━━━━━━━━━━━\u001b[0m\u001b[37m\u001b[0m \u001b[1m0s\u001b[0m 21ms/step - loss: 4.9126 - val_loss: 4.8991\n",
      "Epoch 35/50\n",
      "\u001b[1m3/3\u001b[0m \u001b[32m━━━━━━━━━━━━━━━━━━━━\u001b[0m\u001b[37m\u001b[0m \u001b[1m0s\u001b[0m 20ms/step - loss: 4.9145 - val_loss: 4.8984\n",
      "Epoch 36/50\n",
      "\u001b[1m3/3\u001b[0m \u001b[32m━━━━━━━━━━━━━━━━━━━━\u001b[0m\u001b[37m\u001b[0m \u001b[1m0s\u001b[0m 18ms/step - loss: 4.8799 - val_loss: 4.8979\n",
      "Epoch 37/50\n",
      "\u001b[1m3/3\u001b[0m \u001b[32m━━━━━━━━━━━━━━━━━━━━\u001b[0m\u001b[37m\u001b[0m \u001b[1m0s\u001b[0m 20ms/step - loss: 4.8898 - val_loss: 4.8974\n",
      "Epoch 38/50\n",
      "\u001b[1m3/3\u001b[0m \u001b[32m━━━━━━━━━━━━━━━━━━━━\u001b[0m\u001b[37m\u001b[0m \u001b[1m0s\u001b[0m 23ms/step - loss: 4.9034 - val_loss: 4.8970\n",
      "Epoch 39/50\n",
      "\u001b[1m3/3\u001b[0m \u001b[32m━━━━━━━━━━━━━━━━━━━━\u001b[0m\u001b[37m\u001b[0m \u001b[1m0s\u001b[0m 19ms/step - loss: 4.9374 - val_loss: 4.8965\n",
      "Epoch 40/50\n",
      "\u001b[1m3/3\u001b[0m \u001b[32m━━━━━━━━━━━━━━━━━━━━\u001b[0m\u001b[37m\u001b[0m \u001b[1m0s\u001b[0m 20ms/step - loss: 4.8866 - val_loss: 4.8962\n",
      "Epoch 41/50\n",
      "\u001b[1m3/3\u001b[0m \u001b[32m━━━━━━━━━━━━━━━━━━━━\u001b[0m\u001b[37m\u001b[0m \u001b[1m0s\u001b[0m 20ms/step - loss: 4.8813 - val_loss: 4.8959\n",
      "Epoch 42/50\n",
      "\u001b[1m3/3\u001b[0m \u001b[32m━━━━━━━━━━━━━━━━━━━━\u001b[0m\u001b[37m\u001b[0m \u001b[1m0s\u001b[0m 21ms/step - loss: 4.9266 - val_loss: 4.8956\n",
      "Epoch 43/50\n",
      "\u001b[1m3/3\u001b[0m \u001b[32m━━━━━━━━━━━━━━━━━━━━\u001b[0m\u001b[37m\u001b[0m \u001b[1m0s\u001b[0m 21ms/step - loss: 4.8866 - val_loss: 4.8953\n",
      "Epoch 44/50\n",
      "\u001b[1m3/3\u001b[0m \u001b[32m━━━━━━━━━━━━━━━━━━━━\u001b[0m\u001b[37m\u001b[0m \u001b[1m0s\u001b[0m 25ms/step - loss: 4.9036 - val_loss: 4.8950\n",
      "Epoch 45/50\n",
      "\u001b[1m3/3\u001b[0m \u001b[32m━━━━━━━━━━━━━━━━━━━━\u001b[0m\u001b[37m\u001b[0m \u001b[1m0s\u001b[0m 25ms/step - loss: 4.9304 - val_loss: 4.8947\n",
      "Epoch 46/50\n",
      "\u001b[1m3/3\u001b[0m \u001b[32m━━━━━━━━━━━━━━━━━━━━\u001b[0m\u001b[37m\u001b[0m \u001b[1m0s\u001b[0m 20ms/step - loss: 4.8826 - val_loss: 4.8943\n",
      "Epoch 47/50\n",
      "\u001b[1m3/3\u001b[0m \u001b[32m━━━━━━━━━━━━━━━━━━━━\u001b[0m\u001b[37m\u001b[0m \u001b[1m0s\u001b[0m 21ms/step - loss: 4.8847 - val_loss: 4.8936\n",
      "Epoch 48/50\n",
      "\u001b[1m3/3\u001b[0m \u001b[32m━━━━━━━━━━━━━━━━━━━━\u001b[0m\u001b[37m\u001b[0m \u001b[1m0s\u001b[0m 16ms/step - loss: 4.9040 - val_loss: 4.8928\n",
      "Epoch 49/50\n",
      "\u001b[1m3/3\u001b[0m \u001b[32m━━━━━━━━━━━━━━━━━━━━\u001b[0m\u001b[37m\u001b[0m \u001b[1m0s\u001b[0m 18ms/step - loss: 4.9086 - val_loss: 4.8924\n",
      "Epoch 50/50\n",
      "\u001b[1m3/3\u001b[0m \u001b[32m━━━━━━━━━━━━━━━━━━━━\u001b[0m\u001b[37m\u001b[0m \u001b[1m0s\u001b[0m 20ms/step - loss: 4.8774 - val_loss: 4.8921\n"
     ]
    }
   ],
   "source": [
    "history = autoencoder.fit(\n",
    "    X_train, X_train,\n",
    "    epochs=50,  # 에포크 수\n",
    "    batch_size=256,\n",
    "    shuffle=True,\n",
    "    validation_split = 0.1)  # 검증 데이터\n"
   ]
  },
  {
   "cell_type": "code",
   "execution_count": 411,
   "id": "33eb2100-c0fb-47f6-8cd0-612c89eb93b0",
   "metadata": {},
   "outputs": [
    {
     "data": {
      "text/plain": [
       "<matplotlib.legend.Legend at 0x1d86db38080>"
      ]
     },
     "execution_count": 411,
     "metadata": {},
     "output_type": "execute_result"
    },
    {
     "data": {
      "image/png": "[encoded data removed]",
      "text/plain": [
       "<Figure size 640x480 with 1 Axes>"
      ]
     },
     "metadata": {},
     "output_type": "display_data"
    }
   ],
   "source": [
    "plt.plot(history.history['loss'])\n",
    "plt.plot(history.history['val_loss'])\n",
    "plt.title('model loss')\n",
    "plt.ylabel('loss')\n",
    "plt.xlabel('epoch')\n",
    "plt.legend(['train', 'test'], loc='upper right')"
   ]
  },
  {
   "cell_type": "code",
   "execution_count": 412,
   "id": "98d72949-4ec4-498a-8384-f699686c4591",
   "metadata": {},
   "outputs": [
    {
     "name": "stdout",
     "output_type": "stream",
     "text": [
      "\u001b[1m9/9\u001b[0m \u001b[32m━━━━━━━━━━━━━━━━━━━━\u001b[0m\u001b[37m\u001b[0m \u001b[1m0s\u001b[0m 1ms/step \n"
     ]
    },
    {
     "data": {
      "text/html": [
       "<div>\n",
       "<style scoped>\n",
       "    .dataframe tbody tr th:only-of-type {\n",
       "        vertical-align: middle;\n",
       "    }\n",
       "\n",
       "    .dataframe tbody tr th {\n",
       "        vertical-align: top;\n",
       "    }\n",
       "\n",
       "    .dataframe thead th {\n",
       "        text-align: right;\n",
       "    }\n",
       "</style>\n",
       "<table border=\"1\" class=\"dataframe\">\n",
       "  <thead>\n",
       "    <tr style=\"text-align: right;\">\n",
       "      <th></th>\n",
       "      <th>reconstruction_error</th>\n",
       "      <th>true_class</th>\n",
       "    </tr>\n",
       "  </thead>\n",
       "  <tbody>\n",
       "    <tr>\n",
       "      <th>count</th>\n",
       "      <td>288.000000</td>\n",
       "      <td>288.000000</td>\n",
       "    </tr>\n",
       "    <tr>\n",
       "      <th>mean</th>\n",
       "      <td>4.923210</td>\n",
       "      <td>0.315972</td>\n",
       "    </tr>\n",
       "    <tr>\n",
       "      <th>std</th>\n",
       "      <td>0.261053</td>\n",
       "      <td>0.465711</td>\n",
       "    </tr>\n",
       "    <tr>\n",
       "      <th>min</th>\n",
       "      <td>4.512723</td>\n",
       "      <td>0.000000</td>\n",
       "    </tr>\n",
       "    <tr>\n",
       "      <th>25%</th>\n",
       "      <td>4.655432</td>\n",
       "      <td>0.000000</td>\n",
       "    </tr>\n",
       "    <tr>\n",
       "      <th>50%</th>\n",
       "      <td>4.942996</td>\n",
       "      <td>0.000000</td>\n",
       "    </tr>\n",
       "    <tr>\n",
       "      <th>75%</th>\n",
       "      <td>5.140901</td>\n",
       "      <td>1.000000</td>\n",
       "    </tr>\n",
       "    <tr>\n",
       "      <th>max</th>\n",
       "      <td>5.689527</td>\n",
       "      <td>1.000000</td>\n",
       "    </tr>\n",
       "  </tbody>\n",
       "</table>\n",
       "</div>"
      ],
      "text/plain": [
       "       reconstruction_error  true_class\n",
       "count            288.000000  288.000000\n",
       "mean               4.923210    0.315972\n",
       "std                0.261053    0.465711\n",
       "min                4.512723    0.000000\n",
       "25%                4.655432    0.000000\n",
       "50%                4.942996    0.000000\n",
       "75%                5.140901    1.000000\n",
       "max                5.689527    1.000000"
      ]
     },
     "execution_count": 412,
     "metadata": {},
     "output_type": "execute_result"
    }
   ],
   "source": [
    "predictions = autoencoder.predict(X_test)\n",
    "mse = np.mean(np.power(X_test - predictions, 2), axis=1)\n",
    "error_df = pd.DataFrame({'reconstruction_error': mse,\n",
    "                        'true_class': y_test})\n",
    "error_df.describe()"
   ]
  },
  {
   "cell_type": "code",
   "execution_count": 413,
   "id": "923bfc22-c2ad-4cc8-b5ec-677e90e21daf",
   "metadata": {},
   "outputs": [],
   "source": [
    "threshold = 5.05"
   ]
  },
  {
   "cell_type": "code",
   "execution_count": 414,
   "id": "180070dc-c668-4ad0-bf9e-aec5a1a64eea",
   "metadata": {},
   "outputs": [
    {
     "data": {
      "image/png": "[encoded data removed]",
      "text/plain": [
       "<Figure size 640x480 with 1 Axes>"
      ]
     },
     "metadata": {},
     "output_type": "display_data"
    }
   ],
   "source": [
    "groups = error_df.groupby('true_class')\n",
    "fig, ax = plt.subplots()\n",
    "\n",
    "for name, group in groups:\n",
    "    ax.plot(group.index, group.reconstruction_error, marker='o', ms=3.5, linestyle='',\n",
    "            label= \"lying\" if name == 0 else \"standing\")\n",
    "ax.hlines(threshold, ax.get_xlim()[0], ax.get_xlim()[1], colors=\"r\", zorder=100, label='Threshold')\n",
    "ax.legend()\n",
    "plt.title(\"Reconstruction error for different classes\")\n",
    "plt.ylabel(\"Reconstruction error\")\n",
    "plt.xlabel(\"Data point index\")\n",
    "plt.show();"
   ]
  },
  {
   "cell_type": "code",
   "execution_count": 415,
   "id": "accea08d-3092-44fd-a22e-7b3ac944c34e",
   "metadata": {},
   "outputs": [],
   "source": [
    "LABELS = [\"lying\",\"standing\"]"
   ]
  },
  {
   "cell_type": "code",
   "execution_count": 416,
   "id": "7b684591-8e3d-4772-bc3c-c26527ef1dbc",
   "metadata": {},
   "outputs": [
    {
     "data": {
      "image/png": "[encoded data removed]",
      "text/plain": [
       "<Figure size 800x800 with 2 Axes>"
      ]
     },
     "metadata": {},
     "output_type": "display_data"
    },
    {
     "name": "stdout",
     "output_type": "stream",
     "text": [
      "              precision    recall  f1-score   support\n",
      "\n",
      "           0       1.00      0.86      0.93       197\n",
      "           1       0.77      1.00      0.87        91\n",
      "\n",
      "    accuracy                           0.91       288\n",
      "   macro avg       0.89      0.93      0.90       288\n",
      "weighted avg       0.93      0.91      0.91       288\n",
      "\n"
     ]
    }
   ],
   "source": [
    "from sklearn.metrics import confusion_matrix, classification_report\n",
    "import seaborn as sns\n",
    "\n",
    "y_pred = [1 if e > threshold else 0 for e in error_df.reconstruction_error.values]\n",
    "conf_matrix = confusion_matrix(error_df.true_class, y_pred)\n",
    "plt.figure(figsize=(8, 8))\n",
    "sns.heatmap(conf_matrix, xticklabels=LABELS, yticklabels=LABELS, annot=True, fmt=\"d\");\n",
    "plt.title(\"Confusion matrix\")\n",
    "plt.ylabel('True class')\n",
    "plt.xlabel('Predicted class')\n",
    "plt.show()\n",
    "\n",
    "print(classification_report(error_df.true_class, y_pred))"
   ]
  },
  {
   "cell_type": "code",
   "execution_count": 417,
   "id": "64a75508-9096-4505-87db-6573f1ece50a",
   "metadata": {},
   "outputs": [],
   "source": [
    "acc: 93"
   ]
  },
  {
   "cell_type": "code",
   "execution_count": 418,
   "id": "07bf353d-1d44-40f9-9dbd-3661dd641083",
   "metadata": {},
   "outputs": [
    {
     "data": {
      "text/html": [
       "<pre style=\"white-space:pre;overflow-x:auto;line-height:normal;font-family:Menlo,'DejaVu Sans Mono',consolas,'Courier New',monospace\"><span style=\"font-weight: bold\">Model: \"functional_24\"</span>\n",
       "</pre>\n"
      ],
      "text/plain": [
       "\u001b[1mModel: \"functional_24\"\u001b[0m\n"
      ]
     },
     "metadata": {},
     "output_type": "display_data"
    },
    {
     "data": {
      "text/html": [
       "<pre style=\"white-space:pre;overflow-x:auto;line-height:normal;font-family:Menlo,'DejaVu Sans Mono',consolas,'Courier New',monospace\">┏━━━━━━━━━━━━━━━━━━━━━━━━━━━━━━━━━━━━━━┳━━━━━━━━━━━━━━━━━━━━━━━━━━━━━┳━━━━━━━━━━━━━━━━━┓\n",
       "┃<span style=\"font-weight: bold\"> Layer (type)                         </span>┃<span style=\"font-weight: bold\"> Output Shape                </span>┃<span style=\"font-weight: bold\">         Param # </span>┃\n",
       "┡━━━━━━━━━━━━━━━━━━━━━━━━━━━━━━━━━━━━━━╇━━━━━━━━━━━━━━━━━━━━━━━━━━━━━╇━━━━━━━━━━━━━━━━━┩\n",
       "│ input_layer_18 (<span style=\"color: #0087ff; text-decoration-color: #0087ff\">InputLayer</span>)          │ (<span style=\"color: #00d7ff; text-decoration-color: #00d7ff\">None</span>, <span style=\"color: #00af00; text-decoration-color: #00af00\">270</span>)                 │               <span style=\"color: #00af00; text-decoration-color: #00af00\">0</span> │\n",
       "├──────────────────────────────────────┼─────────────────────────────┼─────────────────┤\n",
       "│ dense_90 (<span style=\"color: #0087ff; text-decoration-color: #0087ff\">Dense</span>)                     │ (<span style=\"color: #00d7ff; text-decoration-color: #00d7ff\">None</span>, <span style=\"color: #00af00; text-decoration-color: #00af00\">32</span>)                  │           <span style=\"color: #00af00; text-decoration-color: #00af00\">8,672</span> │\n",
       "├──────────────────────────────────────┼─────────────────────────────┼─────────────────┤\n",
       "│ dense_91 (<span style=\"color: #0087ff; text-decoration-color: #0087ff\">Dense</span>)                     │ (<span style=\"color: #00d7ff; text-decoration-color: #00d7ff\">None</span>, <span style=\"color: #00af00; text-decoration-color: #00af00\">96</span>)                  │           <span style=\"color: #00af00; text-decoration-color: #00af00\">3,168</span> │\n",
       "├──────────────────────────────────────┼─────────────────────────────┼─────────────────┤\n",
       "│ dense_92 (<span style=\"color: #0087ff; text-decoration-color: #0087ff\">Dense</span>)                     │ (<span style=\"color: #00d7ff; text-decoration-color: #00d7ff\">None</span>, <span style=\"color: #00af00; text-decoration-color: #00af00\">64</span>)                  │           <span style=\"color: #00af00; text-decoration-color: #00af00\">6,208</span> │\n",
       "├──────────────────────────────────────┼─────────────────────────────┼─────────────────┤\n",
       "│ dense_94 (<span style=\"color: #0087ff; text-decoration-color: #0087ff\">Dense</span>)                     │ (<span style=\"color: #00d7ff; text-decoration-color: #00d7ff\">None</span>, <span style=\"color: #00af00; text-decoration-color: #00af00\">128</span>)                 │           <span style=\"color: #00af00; text-decoration-color: #00af00\">8,320</span> │\n",
       "├──────────────────────────────────────┼─────────────────────────────┼─────────────────┤\n",
       "│ dense_95 (<span style=\"color: #0087ff; text-decoration-color: #0087ff\">Dense</span>)                     │ (<span style=\"color: #00d7ff; text-decoration-color: #00d7ff\">None</span>, <span style=\"color: #00af00; text-decoration-color: #00af00\">270</span>)                 │          <span style=\"color: #00af00; text-decoration-color: #00af00\">34,830</span> │\n",
       "└──────────────────────────────────────┴─────────────────────────────┴─────────────────┘\n",
       "</pre>\n"
      ],
      "text/plain": [
       "┏━━━━━━━━━━━━━━━━━━━━━━━━━━━━━━━━━━━━━━┳━━━━━━━━━━━━━━━━━━━━━━━━━━━━━┳━━━━━━━━━━━━━━━━━┓\n",
       "┃\u001b[1m \u001b[0m\u001b[1mLayer (type)                        \u001b[0m\u001b[1m \u001b[0m┃\u001b[1m \u001b[0m\u001b[1mOutput Shape               \u001b[0m\u001b[1m \u001b[0m┃\u001b[1m \u001b[0m\u001b[1m        Param #\u001b[0m\u001b[1m \u001b[0m┃\n",
       "┡━━━━━━━━━━━━━━━━━━━━━━━━━━━━━━━━━━━━━━╇━━━━━━━━━━━━━━━━━━━━━━━━━━━━━╇━━━━━━━━━━━━━━━━━┩\n",
       "│ input_layer_18 (\u001b[38;5;33mInputLayer\u001b[0m)          │ (\u001b[38;5;45mNone\u001b[0m, \u001b[38;5;34m270\u001b[0m)                 │               \u001b[38;5;34m0\u001b[0m │\n",
       "├──────────────────────────────────────┼─────────────────────────────┼─────────────────┤\n",
       "│ dense_90 (\u001b[38;5;33mDense\u001b[0m)                     │ (\u001b[38;5;45mNone\u001b[0m, \u001b[38;5;34m32\u001b[0m)                  │           \u001b[38;5;34m8,672\u001b[0m │\n",
       "├──────────────────────────────────────┼─────────────────────────────┼─────────────────┤\n",
       "│ dense_91 (\u001b[38;5;33mDense\u001b[0m)                     │ (\u001b[38;5;45mNone\u001b[0m, \u001b[38;5;34m96\u001b[0m)                  │           \u001b[38;5;34m3,168\u001b[0m │\n",
       "├──────────────────────────────────────┼─────────────────────────────┼─────────────────┤\n",
       "│ dense_92 (\u001b[38;5;33mDense\u001b[0m)                     │ (\u001b[38;5;45mNone\u001b[0m, \u001b[38;5;34m64\u001b[0m)                  │           \u001b[38;5;34m6,208\u001b[0m │\n",
       "├──────────────────────────────────────┼─────────────────────────────┼─────────────────┤\n",
       "│ dense_94 (\u001b[38;5;33mDense\u001b[0m)                     │ (\u001b[38;5;45mNone\u001b[0m, \u001b[38;5;34m128\u001b[0m)                 │           \u001b[38;5;34m8,320\u001b[0m │\n",
       "├──────────────────────────────────────┼─────────────────────────────┼─────────────────┤\n",
       "│ dense_95 (\u001b[38;5;33mDense\u001b[0m)                     │ (\u001b[38;5;45mNone\u001b[0m, \u001b[38;5;34m270\u001b[0m)                 │          \u001b[38;5;34m34,830\u001b[0m │\n",
       "└──────────────────────────────────────┴─────────────────────────────┴─────────────────┘\n"
      ]
     },
     "metadata": {},
     "output_type": "display_data"
    },
    {
     "data": {
      "text/html": [
       "<pre style=\"white-space:pre;overflow-x:auto;line-height:normal;font-family:Menlo,'DejaVu Sans Mono',consolas,'Courier New',monospace\"><span style=\"font-weight: bold\"> Total params: </span><span style=\"color: #00af00; text-decoration-color: #00af00\">61,198</span> (239.05 KB)\n",
       "</pre>\n"
      ],
      "text/plain": [
       "\u001b[1m Total params: \u001b[0m\u001b[38;5;34m61,198\u001b[0m (239.05 KB)\n"
      ]
     },
     "metadata": {},
     "output_type": "display_data"
    },
    {
     "data": {
      "text/html": [
       "<pre style=\"white-space:pre;overflow-x:auto;line-height:normal;font-family:Menlo,'DejaVu Sans Mono',consolas,'Courier New',monospace\"><span style=\"font-weight: bold\"> Trainable params: </span><span style=\"color: #00af00; text-decoration-color: #00af00\">61,198</span> (239.05 KB)\n",
       "</pre>\n"
      ],
      "text/plain": [
       "\u001b[1m Trainable params: \u001b[0m\u001b[38;5;34m61,198\u001b[0m (239.05 KB)\n"
      ]
     },
     "metadata": {},
     "output_type": "display_data"
    },
    {
     "data": {
      "text/html": [
       "<pre style=\"white-space:pre;overflow-x:auto;line-height:normal;font-family:Menlo,'DejaVu Sans Mono',consolas,'Courier New',monospace\"><span style=\"font-weight: bold\"> Non-trainable params: </span><span style=\"color: #00af00; text-decoration-color: #00af00\">0</span> (0.00 B)\n",
       "</pre>\n"
      ],
      "text/plain": [
       "\u001b[1m Non-trainable params: \u001b[0m\u001b[38;5;34m0\u001b[0m (0.00 B)\n"
      ]
     },
     "metadata": {},
     "output_type": "display_data"
    }
   ],
   "source": [
    "input_dim = X_train.shape[1]  # 입력 차원 (특성 수)\n",
    "encoding_dim = 32\n",
    "\n",
    "# 입력 레이어\n",
    "input_layer = Input(shape=(input_dim,))\n",
    "\n",
    "# 인코더: 점진적으로 차원 축소\n",
    "encoded = Dense(encoding_dim, activation='relu')(input_layer)\n",
    "encoded = Dense(int(encoding_dim * 3), activation='relu')(encoded)\n",
    "encoded = Dense(int(encoding_dim * 2), activation='relu')(encoded)\n",
    "\n",
    "# 디코더: 점진적으로 차원 확장\n",
    "decoded = Dense(int(encoding_dim * 2), activation='relu')(encoded)\n",
    "decoded = Dense(int(encoding_dim * 4), activation='relu')(encoded)\n",
    "decoded = Dense(input_dim, activation='sigmoid')(decoded)  # 입력 차원으로 복원\n",
    "\n",
    "# 오토인코더 모델 구성\n",
    "nonlin_autoencoder = Model(inputs=input_layer, outputs=decoded)\n",
    "\n",
    "# 모델 컴파일\n",
    "nonlin_autoencoder.compile(optimizer=Adam(learning_rate=0.001), loss='mse')\n",
    "\n",
    "# 모델 요약 출력\n",
    "nonlin_autoencoder.summary()"
   ]
  },
  {
   "cell_type": "code",
   "execution_count": 419,
   "id": "b9083d16-1c89-46c8-8d59-b4d7e9b69982",
   "metadata": {},
   "outputs": [
    {
     "name": "stdout",
     "output_type": "stream",
     "text": [
      "Epoch 1/50\n",
      "\u001b[1m3/3\u001b[0m \u001b[32m━━━━━━━━━━━━━━━━━━━━\u001b[0m\u001b[37m\u001b[0m \u001b[1m2s\u001b[0m 98ms/step - loss: 5.7690 - val_loss: 5.6317\n",
      "Epoch 2/50\n",
      "\u001b[1m3/3\u001b[0m \u001b[32m━━━━━━━━━━━━━━━━━━━━\u001b[0m\u001b[37m\u001b[0m \u001b[1m0s\u001b[0m 19ms/step - loss: 5.5837 - val_loss: 5.4876\n",
      "Epoch 3/50\n",
      "\u001b[1m3/3\u001b[0m \u001b[32m━━━━━━━━━━━━━━━━━━━━\u001b[0m\u001b[37m\u001b[0m \u001b[1m0s\u001b[0m 24ms/step - loss: 5.4321 - val_loss: 5.3262\n",
      "Epoch 4/50\n",
      "\u001b[1m3/3\u001b[0m \u001b[32m━━━━━━━━━━━━━━━━━━━━\u001b[0m\u001b[37m\u001b[0m \u001b[1m0s\u001b[0m 18ms/step - loss: 5.2807 - val_loss: 5.1873\n",
      "Epoch 5/50\n",
      "\u001b[1m3/3\u001b[0m \u001b[32m━━━━━━━━━━━━━━━━━━━━\u001b[0m\u001b[37m\u001b[0m \u001b[1m0s\u001b[0m 19ms/step - loss: 5.2142 - val_loss: 5.0972\n",
      "Epoch 6/50\n",
      "\u001b[1m3/3\u001b[0m \u001b[32m━━━━━━━━━━━━━━━━━━━━\u001b[0m\u001b[37m\u001b[0m \u001b[1m0s\u001b[0m 20ms/step - loss: 5.0869 - val_loss: 5.0451\n",
      "Epoch 7/50\n",
      "\u001b[1m3/3\u001b[0m \u001b[32m━━━━━━━━━━━━━━━━━━━━\u001b[0m\u001b[37m\u001b[0m \u001b[1m0s\u001b[0m 19ms/step - loss: 5.0578 - val_loss: 5.0120\n",
      "Epoch 8/50\n",
      "\u001b[1m3/3\u001b[0m \u001b[32m━━━━━━━━━━━━━━━━━━━━\u001b[0m\u001b[37m\u001b[0m \u001b[1m0s\u001b[0m 19ms/step - loss: 5.0191 - val_loss: 4.9879\n",
      "Epoch 9/50\n",
      "\u001b[1m3/3\u001b[0m \u001b[32m━━━━━━━━━━━━━━━━━━━━\u001b[0m\u001b[37m\u001b[0m \u001b[1m0s\u001b[0m 18ms/step - loss: 4.9858 - val_loss: 4.9772\n",
      "Epoch 10/50\n",
      "\u001b[1m3/3\u001b[0m \u001b[32m━━━━━━━━━━━━━━━━━━━━\u001b[0m\u001b[37m\u001b[0m \u001b[1m0s\u001b[0m 20ms/step - loss: 4.9839 - val_loss: 4.9679\n",
      "Epoch 11/50\n",
      "\u001b[1m3/3\u001b[0m \u001b[32m━━━━━━━━━━━━━━━━━━━━\u001b[0m\u001b[37m\u001b[0m \u001b[1m0s\u001b[0m 23ms/step - loss: 4.9977 - val_loss: 4.9553\n",
      "Epoch 12/50\n",
      "\u001b[1m3/3\u001b[0m \u001b[32m━━━━━━━━━━━━━━━━━━━━\u001b[0m\u001b[37m\u001b[0m \u001b[1m0s\u001b[0m 18ms/step - loss: 4.9250 - val_loss: 4.9504\n",
      "Epoch 13/50\n",
      "\u001b[1m3/3\u001b[0m \u001b[32m━━━━━━━━━━━━━━━━━━━━\u001b[0m\u001b[37m\u001b[0m \u001b[1m0s\u001b[0m 19ms/step - loss: 4.9106 - val_loss: 4.9416\n",
      "Epoch 14/50\n",
      "\u001b[1m3/3\u001b[0m \u001b[32m━━━━━━━━━━━━━━━━━━━━\u001b[0m\u001b[37m\u001b[0m \u001b[1m0s\u001b[0m 33ms/step - loss: 4.9945 - val_loss: 4.9419\n",
      "Epoch 15/50\n",
      "\u001b[1m3/3\u001b[0m \u001b[32m━━━━━━━━━━━━━━━━━━━━\u001b[0m\u001b[37m\u001b[0m \u001b[1m0s\u001b[0m 22ms/step - loss: 4.9244 - val_loss: 4.9409\n",
      "Epoch 16/50\n",
      "\u001b[1m3/3\u001b[0m \u001b[32m━━━━━━━━━━━━━━━━━━━━\u001b[0m\u001b[37m\u001b[0m \u001b[1m0s\u001b[0m 20ms/step - loss: 4.9255 - val_loss: 4.9388\n",
      "Epoch 17/50\n",
      "\u001b[1m3/3\u001b[0m \u001b[32m━━━━━━━━━━━━━━━━━━━━\u001b[0m\u001b[37m\u001b[0m \u001b[1m0s\u001b[0m 21ms/step - loss: 4.9311 - val_loss: 4.9376\n",
      "Epoch 18/50\n",
      "\u001b[1m3/3\u001b[0m \u001b[32m━━━━━━━━━━━━━━━━━━━━\u001b[0m\u001b[37m\u001b[0m \u001b[1m0s\u001b[0m 20ms/step - loss: 4.9163 - val_loss: 4.9332\n",
      "Epoch 19/50\n",
      "\u001b[1m3/3\u001b[0m \u001b[32m━━━━━━━━━━━━━━━━━━━━\u001b[0m\u001b[37m\u001b[0m \u001b[1m0s\u001b[0m 17ms/step - loss: 4.9458 - val_loss: 4.9255\n",
      "Epoch 20/50\n",
      "\u001b[1m3/3\u001b[0m \u001b[32m━━━━━━━━━━━━━━━━━━━━\u001b[0m\u001b[37m\u001b[0m \u001b[1m0s\u001b[0m 20ms/step - loss: 4.9059 - val_loss: 4.9247\n",
      "Epoch 21/50\n",
      "\u001b[1m3/3\u001b[0m \u001b[32m━━━━━━━━━━━━━━━━━━━━\u001b[0m\u001b[37m\u001b[0m \u001b[1m0s\u001b[0m 20ms/step - loss: 4.9688 - val_loss: 4.9214\n",
      "Epoch 22/50\n",
      "\u001b[1m3/3\u001b[0m \u001b[32m━━━━━━━━━━━━━━━━━━━━\u001b[0m\u001b[37m\u001b[0m \u001b[1m0s\u001b[0m 20ms/step - loss: 4.9074 - val_loss: 4.9151\n",
      "Epoch 23/50\n",
      "\u001b[1m3/3\u001b[0m \u001b[32m━━━━━━━━━━━━━━━━━━━━\u001b[0m\u001b[37m\u001b[0m \u001b[1m0s\u001b[0m 25ms/step - loss: 4.8799 - val_loss: 4.9136\n",
      "Epoch 24/50\n",
      "\u001b[1m3/3\u001b[0m \u001b[32m━━━━━━━━━━━━━━━━━━━━\u001b[0m\u001b[37m\u001b[0m \u001b[1m0s\u001b[0m 20ms/step - loss: 4.9042 - val_loss: 4.9139\n",
      "Epoch 25/50\n",
      "\u001b[1m3/3\u001b[0m \u001b[32m━━━━━━━━━━━━━━━━━━━━\u001b[0m\u001b[37m\u001b[0m \u001b[1m0s\u001b[0m 23ms/step - loss: 4.9376 - val_loss: 4.9125\n",
      "Epoch 26/50\n",
      "\u001b[1m3/3\u001b[0m \u001b[32m━━━━━━━━━━━━━━━━━━━━\u001b[0m\u001b[37m\u001b[0m \u001b[1m0s\u001b[0m 20ms/step - loss: 4.9384 - val_loss: 4.9108\n",
      "Epoch 27/50\n",
      "\u001b[1m3/3\u001b[0m \u001b[32m━━━━━━━━━━━━━━━━━━━━\u001b[0m\u001b[37m\u001b[0m \u001b[1m0s\u001b[0m 23ms/step - loss: 4.9572 - val_loss: 4.9088\n",
      "Epoch 28/50\n",
      "\u001b[1m3/3\u001b[0m \u001b[32m━━━━━━━━━━━━━━━━━━━━\u001b[0m\u001b[37m\u001b[0m \u001b[1m0s\u001b[0m 19ms/step - loss: 4.8925 - val_loss: 4.9043\n",
      "Epoch 29/50\n",
      "\u001b[1m3/3\u001b[0m \u001b[32m━━━━━━━━━━━━━━━━━━━━\u001b[0m\u001b[37m\u001b[0m \u001b[1m0s\u001b[0m 20ms/step - loss: 4.9356 - val_loss: 4.9012\n",
      "Epoch 30/50\n",
      "\u001b[1m3/3\u001b[0m \u001b[32m━━━━━━━━━━━━━━━━━━━━\u001b[0m\u001b[37m\u001b[0m \u001b[1m0s\u001b[0m 26ms/step - loss: 4.9478 - val_loss: 4.9013\n",
      "Epoch 31/50\n",
      "\u001b[1m3/3\u001b[0m \u001b[32m━━━━━━━━━━━━━━━━━━━━\u001b[0m\u001b[37m\u001b[0m \u001b[1m0s\u001b[0m 20ms/step - loss: 4.9357 - val_loss: 4.9002\n",
      "Epoch 32/50\n",
      "\u001b[1m3/3\u001b[0m \u001b[32m━━━━━━━━━━━━━━━━━━━━\u001b[0m\u001b[37m\u001b[0m \u001b[1m0s\u001b[0m 19ms/step - loss: 4.9489 - val_loss: 4.8990\n",
      "Epoch 33/50\n",
      "\u001b[1m3/3\u001b[0m \u001b[32m━━━━━━━━━━━━━━━━━━━━\u001b[0m\u001b[37m\u001b[0m \u001b[1m0s\u001b[0m 25ms/step - loss: 4.9047 - val_loss: 4.8987\n",
      "Epoch 34/50\n",
      "\u001b[1m3/3\u001b[0m \u001b[32m━━━━━━━━━━━━━━━━━━━━\u001b[0m\u001b[37m\u001b[0m \u001b[1m0s\u001b[0m 21ms/step - loss: 4.9084 - val_loss: 4.8985\n",
      "Epoch 35/50\n",
      "\u001b[1m3/3\u001b[0m \u001b[32m━━━━━━━━━━━━━━━━━━━━\u001b[0m\u001b[37m\u001b[0m \u001b[1m0s\u001b[0m 22ms/step - loss: 4.8669 - val_loss: 4.8984\n",
      "Epoch 36/50\n",
      "\u001b[1m3/3\u001b[0m \u001b[32m━━━━━━━━━━━━━━━━━━━━\u001b[0m\u001b[37m\u001b[0m \u001b[1m0s\u001b[0m 20ms/step - loss: 4.9156 - val_loss: 4.8982\n",
      "Epoch 37/50\n",
      "\u001b[1m3/3\u001b[0m \u001b[32m━━━━━━━━━━━━━━━━━━━━\u001b[0m\u001b[37m\u001b[0m \u001b[1m0s\u001b[0m 24ms/step - loss: 4.8614 - val_loss: 4.8980\n",
      "Epoch 38/50\n",
      "\u001b[1m3/3\u001b[0m \u001b[32m━━━━━━━━━━━━━━━━━━━━\u001b[0m\u001b[37m\u001b[0m \u001b[1m0s\u001b[0m 23ms/step - loss: 4.9235 - val_loss: 4.8976\n",
      "Epoch 39/50\n",
      "\u001b[1m3/3\u001b[0m \u001b[32m━━━━━━━━━━━━━━━━━━━━\u001b[0m\u001b[37m\u001b[0m \u001b[1m0s\u001b[0m 23ms/step - loss: 4.8522 - val_loss: 4.8974\n",
      "Epoch 40/50\n",
      "\u001b[1m3/3\u001b[0m \u001b[32m━━━━━━━━━━━━━━━━━━━━\u001b[0m\u001b[37m\u001b[0m \u001b[1m0s\u001b[0m 19ms/step - loss: 4.8651 - val_loss: 4.8971\n",
      "Epoch 41/50\n",
      "\u001b[1m3/3\u001b[0m \u001b[32m━━━━━━━━━━━━━━━━━━━━\u001b[0m\u001b[37m\u001b[0m \u001b[1m0s\u001b[0m 22ms/step - loss: 4.9509 - val_loss: 4.8970\n",
      "Epoch 42/50\n",
      "\u001b[1m3/3\u001b[0m \u001b[32m━━━━━━━━━━━━━━━━━━━━\u001b[0m\u001b[37m\u001b[0m \u001b[1m0s\u001b[0m 21ms/step - loss: 4.8723 - val_loss: 4.8969\n",
      "Epoch 43/50\n",
      "\u001b[1m3/3\u001b[0m \u001b[32m━━━━━━━━━━━━━━━━━━━━\u001b[0m\u001b[37m\u001b[0m \u001b[1m0s\u001b[0m 22ms/step - loss: 4.8987 - val_loss: 4.8968\n",
      "Epoch 44/50\n",
      "\u001b[1m3/3\u001b[0m \u001b[32m━━━━━━━━━━━━━━━━━━━━\u001b[0m\u001b[37m\u001b[0m \u001b[1m0s\u001b[0m 25ms/step - loss: 4.8865 - val_loss: 4.8966\n",
      "Epoch 45/50\n",
      "\u001b[1m3/3\u001b[0m \u001b[32m━━━━━━━━━━━━━━━━━━━━\u001b[0m\u001b[37m\u001b[0m \u001b[1m0s\u001b[0m 23ms/step - loss: 4.8846 - val_loss: 4.8964\n",
      "Epoch 46/50\n",
      "\u001b[1m3/3\u001b[0m \u001b[32m━━━━━━━━━━━━━━━━━━━━\u001b[0m\u001b[37m\u001b[0m \u001b[1m0s\u001b[0m 21ms/step - loss: 4.9402 - val_loss: 4.8961\n",
      "Epoch 47/50\n",
      "\u001b[1m3/3\u001b[0m \u001b[32m━━━━━━━━━━━━━━━━━━━━\u001b[0m\u001b[37m\u001b[0m \u001b[1m0s\u001b[0m 21ms/step - loss: 4.8769 - val_loss: 4.8959\n",
      "Epoch 48/50\n",
      "\u001b[1m3/3\u001b[0m \u001b[32m━━━━━━━━━━━━━━━━━━━━\u001b[0m\u001b[37m\u001b[0m \u001b[1m0s\u001b[0m 21ms/step - loss: 4.9152 - val_loss: 4.8957\n",
      "Epoch 49/50\n",
      "\u001b[1m3/3\u001b[0m \u001b[32m━━━━━━━━━━━━━━━━━━━━\u001b[0m\u001b[37m\u001b[0m \u001b[1m0s\u001b[0m 24ms/step - loss: 4.8865 - val_loss: 4.8954\n",
      "Epoch 50/50\n",
      "\u001b[1m3/3\u001b[0m \u001b[32m━━━━━━━━━━━━━━━━━━━━\u001b[0m\u001b[37m\u001b[0m \u001b[1m0s\u001b[0m 19ms/step - loss: 4.8722 - val_loss: 4.8951\n"
     ]
    }
   ],
   "source": [
    "nonlin_history = nonlin_autoencoder.fit(\n",
    "    X_train, X_train,\n",
    "    epochs=50,  # 에포크 수\n",
    "    batch_size=256,\n",
    "    shuffle=True,\n",
    "    validation_split = 0.1)  # 검증 데이터\n"
   ]
  },
  {
   "cell_type": "code",
   "execution_count": 420,
   "id": "4a62856e-bfc8-4b72-b0c4-98b37ba45421",
   "metadata": {},
   "outputs": [
    {
     "data": {
      "text/plain": [
       "<matplotlib.legend.Legend at 0x1d86b9396d0>"
      ]
     },
     "execution_count": 420,
     "metadata": {},
     "output_type": "execute_result"
    },
    {
     "data": {
      "image/png": "[encoded data removed]",
      "text/plain": [
       "<Figure size 640x480 with 1 Axes>"
      ]
     },
     "metadata": {},
     "output_type": "display_data"
    }
   ],
   "source": [
    "plt.plot(nonlin_history.history['loss'])\n",
    "plt.plot(nonlin_history.history['val_loss'])\n",
    "plt.title('model loss')\n",
    "plt.ylabel('loss')\n",
    "plt.xlabel('epoch')\n",
    "plt.legend(['train', 'test'], loc='upper right')"
   ]
  },
  {
   "cell_type": "code",
   "execution_count": 421,
   "id": "3808a860-ecda-4353-8a01-003b053c2220",
   "metadata": {},
   "outputs": [
    {
     "name": "stdout",
     "output_type": "stream",
     "text": [
      "\u001b[1m9/9\u001b[0m \u001b[32m━━━━━━━━━━━━━━━━━━━━\u001b[0m\u001b[37m\u001b[0m \u001b[1m0s\u001b[0m 2ms/step \n"
     ]
    },
    {
     "data": {
      "text/html": [
       "<div>\n",
       "<style scoped>\n",
       "    .dataframe tbody tr th:only-of-type {\n",
       "        vertical-align: middle;\n",
       "    }\n",
       "\n",
       "    .dataframe tbody tr th {\n",
       "        vertical-align: top;\n",
       "    }\n",
       "\n",
       "    .dataframe thead th {\n",
       "        text-align: right;\n",
       "    }\n",
       "</style>\n",
       "<table border=\"1\" class=\"dataframe\">\n",
       "  <thead>\n",
       "    <tr style=\"text-align: right;\">\n",
       "      <th></th>\n",
       "      <th>reconstruction_error</th>\n",
       "      <th>true_class</th>\n",
       "    </tr>\n",
       "  </thead>\n",
       "  <tbody>\n",
       "    <tr>\n",
       "      <th>count</th>\n",
       "      <td>288.000000</td>\n",
       "      <td>288.000000</td>\n",
       "    </tr>\n",
       "    <tr>\n",
       "      <th>mean</th>\n",
       "      <td>4.929759</td>\n",
       "      <td>0.315972</td>\n",
       "    </tr>\n",
       "    <tr>\n",
       "      <th>std</th>\n",
       "      <td>0.266572</td>\n",
       "      <td>0.465711</td>\n",
       "    </tr>\n",
       "    <tr>\n",
       "      <th>min</th>\n",
       "      <td>4.509373</td>\n",
       "      <td>0.000000</td>\n",
       "    </tr>\n",
       "    <tr>\n",
       "      <th>25%</th>\n",
       "      <td>4.649653</td>\n",
       "      <td>0.000000</td>\n",
       "    </tr>\n",
       "    <tr>\n",
       "      <th>50%</th>\n",
       "      <td>4.939753</td>\n",
       "      <td>0.000000</td>\n",
       "    </tr>\n",
       "    <tr>\n",
       "      <th>75%</th>\n",
       "      <td>5.156209</td>\n",
       "      <td>1.000000</td>\n",
       "    </tr>\n",
       "    <tr>\n",
       "      <th>max</th>\n",
       "      <td>5.759642</td>\n",
       "      <td>1.000000</td>\n",
       "    </tr>\n",
       "  </tbody>\n",
       "</table>\n",
       "</div>"
      ],
      "text/plain": [
       "       reconstruction_error  true_class\n",
       "count            288.000000  288.000000\n",
       "mean               4.929759    0.315972\n",
       "std                0.266572    0.465711\n",
       "min                4.509373    0.000000\n",
       "25%                4.649653    0.000000\n",
       "50%                4.939753    0.000000\n",
       "75%                5.156209    1.000000\n",
       "max                5.759642    1.000000"
      ]
     },
     "execution_count": 421,
     "metadata": {},
     "output_type": "execute_result"
    }
   ],
   "source": [
    "nonlin_predictions = nonlin_autoencoder.predict(X_test)\n",
    "mse = np.mean(np.power(X_test - nonlin_predictions, 2), axis=1)\n",
    "nonlin_error_df = pd.DataFrame({'reconstruction_error': mse,\n",
    "                        'true_class': y_test})\n",
    "nonlin_error_df.describe()"
   ]
  },
  {
   "cell_type": "code",
   "execution_count": 422,
   "id": "2aa026ce-324b-45bb-9932-ec528d25d263",
   "metadata": {},
   "outputs": [
    {
     "data": {
      "image/png": "[encoded data removed]",
      "text/plain": [
       "<Figure size 640x480 with 1 Axes>"
      ]
     },
     "metadata": {},
     "output_type": "display_data"
    }
   ],
   "source": [
    "groups = nonlin_error_df.groupby('true_class')\n",
    "fig, ax = plt.subplots()\n",
    "\n",
    "for name, group in groups:\n",
    "    ax.plot(group.index, group.reconstruction_error, marker='o', ms=3.5, linestyle='',\n",
    "            label= \"lying\" if name == 0 else \"standing\")\n",
    "ax.hlines(threshold, ax.get_xlim()[0], ax.get_xlim()[1], colors=\"r\", zorder=100, label='Threshold')\n",
    "ax.legend()\n",
    "plt.title(\"Reconstruction error for different classes\")\n",
    "plt.ylabel(\"Reconstruction error\")\n",
    "plt.xlabel(\"Data point index\")\n",
    "plt.show();"
   ]
  },
  {
   "cell_type": "code",
   "execution_count": 516,
   "id": "d441e0e1-6f3e-46c8-869a-87aa49db294d",
   "metadata": {},
   "outputs": [
    {
     "data": {
      "image/png": "[encoded data removed]",
      "text/plain": [
       "<Figure size 800x800 with 2 Axes>"
      ]
     },
     "metadata": {},
     "output_type": "display_data"
    },
    {
     "name": "stdout",
     "output_type": "stream",
     "text": [
      "              precision    recall  f1-score   support\n",
      "\n",
      "           0       1.00      0.89      0.94       197\n",
      "           1       0.81      1.00      0.90        91\n",
      "\n",
      "    accuracy                           0.93       288\n",
      "   macro avg       0.91      0.95      0.92       288\n",
      "weighted avg       0.94      0.93      0.93       288\n",
      "\n"
     ]
    }
   ],
   "source": [
    "from sklearn.metrics import confusion_matrix, classification_report\n",
    "import seaborn as sns\n",
    "\n",
    "y_pred = [1 if e > threshold else 0 for e in nonlin_error_df.reconstruction_error.values]\n",
    "conf_matrix = confusion_matrix(nonlin_error_df.true_class, y_pred)\n",
    "plt.figure(figsize=(8, 8))\n",
    "sns.heatmap(conf_matrix, xticklabels=LABELS, yticklabels=LABELS, annot=True, fmt=\"d\");\n",
    "plt.title(\"Confusion matrix\")\n",
    "plt.ylabel('True class')\n",
    "plt.xlabel('Predicted class')\n",
    "plt.show()\n",
    "\n",
    "print(classification_report(nonlin_error_df.true_class, y_pred))"
   ]
  },
  {
   "cell_type": "code",
   "execution_count": 424,
   "id": "b3795f82-7202-425d-9004-d6e2ddf0ba18",
   "metadata": {},
   "outputs": [],
   "source": [
    "acc: 93"
   ]
  },
  {
   "cell_type": "raw",
   "id": "baa978da-e6b3-4c8b-bfbc-9abf2179a1a1",
   "metadata": {},
   "source": [
    "Denoising AutoEncoder\n",
    "\n"
   ]
  },
  {
   "cell_type": "code",
   "execution_count": 460,
   "id": "f0351de5-75de-4de7-a7ba-74935191c670",
   "metadata": {},
   "outputs": [
    {
     "data": {
      "text/plain": [
       "(763, 270)"
      ]
     },
     "execution_count": 460,
     "metadata": {},
     "output_type": "execute_result"
    }
   ],
   "source": [
    "X_train.shape\n"
   ]
  },
  {
   "cell_type": "code",
   "execution_count": 474,
   "id": "a3badfa1-7843-4a0f-ab20-bcd22920e32d",
   "metadata": {},
   "outputs": [
    {
     "data": {
      "text/html": [
       "<pre style=\"white-space:pre;overflow-x:auto;line-height:normal;font-family:Menlo,'DejaVu Sans Mono',consolas,'Courier New',monospace\"><span style=\"font-weight: bold\">Model: \"functional_27\"</span>\n",
       "</pre>\n"
      ],
      "text/plain": [
       "\u001b[1mModel: \"functional_27\"\u001b[0m\n"
      ]
     },
     "metadata": {},
     "output_type": "display_data"
    },
    {
     "data": {
      "text/html": [
       "<pre style=\"white-space:pre;overflow-x:auto;line-height:normal;font-family:Menlo,'DejaVu Sans Mono',consolas,'Courier New',monospace\">┏━━━━━━━━━━━━━━━━━━━━━━━━━━━━━━━━━━━━━━┳━━━━━━━━━━━━━━━━━━━━━━━━━━━━━┳━━━━━━━━━━━━━━━━━┓\n",
       "┃<span style=\"font-weight: bold\"> Layer (type)                         </span>┃<span style=\"font-weight: bold\"> Output Shape                </span>┃<span style=\"font-weight: bold\">         Param # </span>┃\n",
       "┡━━━━━━━━━━━━━━━━━━━━━━━━━━━━━━━━━━━━━━╇━━━━━━━━━━━━━━━━━━━━━━━━━━━━━╇━━━━━━━━━━━━━━━━━┩\n",
       "│ input_layer_20 (<span style=\"color: #0087ff; text-decoration-color: #0087ff\">InputLayer</span>)          │ (<span style=\"color: #00d7ff; text-decoration-color: #00d7ff\">None</span>, <span style=\"color: #00af00; text-decoration-color: #00af00\">270</span>)                 │               <span style=\"color: #00af00; text-decoration-color: #00af00\">0</span> │\n",
       "├──────────────────────────────────────┼─────────────────────────────┼─────────────────┤\n",
       "│ dense_96 (<span style=\"color: #0087ff; text-decoration-color: #0087ff\">Dense</span>)                     │ (<span style=\"color: #00d7ff; text-decoration-color: #00d7ff\">None</span>, <span style=\"color: #00af00; text-decoration-color: #00af00\">32</span>)                  │           <span style=\"color: #00af00; text-decoration-color: #00af00\">8,672</span> │\n",
       "├──────────────────────────────────────┼─────────────────────────────┼─────────────────┤\n",
       "│ dense_97 (<span style=\"color: #0087ff; text-decoration-color: #0087ff\">Dense</span>)                     │ (<span style=\"color: #00d7ff; text-decoration-color: #00d7ff\">None</span>, <span style=\"color: #00af00; text-decoration-color: #00af00\">16</span>)                  │             <span style=\"color: #00af00; text-decoration-color: #00af00\">528</span> │\n",
       "├──────────────────────────────────────┼─────────────────────────────┼─────────────────┤\n",
       "│ dense_98 (<span style=\"color: #0087ff; text-decoration-color: #0087ff\">Dense</span>)                     │ (<span style=\"color: #00d7ff; text-decoration-color: #00d7ff\">None</span>, <span style=\"color: #00af00; text-decoration-color: #00af00\">32</span>)                  │             <span style=\"color: #00af00; text-decoration-color: #00af00\">544</span> │\n",
       "├──────────────────────────────────────┼─────────────────────────────┼─────────────────┤\n",
       "│ dense_100 (<span style=\"color: #0087ff; text-decoration-color: #0087ff\">Dense</span>)                    │ (<span style=\"color: #00d7ff; text-decoration-color: #00d7ff\">None</span>, <span style=\"color: #00af00; text-decoration-color: #00af00\">16</span>)                  │             <span style=\"color: #00af00; text-decoration-color: #00af00\">528</span> │\n",
       "├──────────────────────────────────────┼─────────────────────────────┼─────────────────┤\n",
       "│ dense_101 (<span style=\"color: #0087ff; text-decoration-color: #0087ff\">Dense</span>)                    │ (<span style=\"color: #00d7ff; text-decoration-color: #00d7ff\">None</span>, <span style=\"color: #00af00; text-decoration-color: #00af00\">270</span>)                 │           <span style=\"color: #00af00; text-decoration-color: #00af00\">4,590</span> │\n",
       "└──────────────────────────────────────┴─────────────────────────────┴─────────────────┘\n",
       "</pre>\n"
      ],
      "text/plain": [
       "┏━━━━━━━━━━━━━━━━━━━━━━━━━━━━━━━━━━━━━━┳━━━━━━━━━━━━━━━━━━━━━━━━━━━━━┳━━━━━━━━━━━━━━━━━┓\n",
       "┃\u001b[1m \u001b[0m\u001b[1mLayer (type)                        \u001b[0m\u001b[1m \u001b[0m┃\u001b[1m \u001b[0m\u001b[1mOutput Shape               \u001b[0m\u001b[1m \u001b[0m┃\u001b[1m \u001b[0m\u001b[1m        Param #\u001b[0m\u001b[1m \u001b[0m┃\n",
       "┡━━━━━━━━━━━━━━━━━━━━━━━━━━━━━━━━━━━━━━╇━━━━━━━━━━━━━━━━━━━━━━━━━━━━━╇━━━━━━━━━━━━━━━━━┩\n",
       "│ input_layer_20 (\u001b[38;5;33mInputLayer\u001b[0m)          │ (\u001b[38;5;45mNone\u001b[0m, \u001b[38;5;34m270\u001b[0m)                 │               \u001b[38;5;34m0\u001b[0m │\n",
       "├──────────────────────────────────────┼─────────────────────────────┼─────────────────┤\n",
       "│ dense_96 (\u001b[38;5;33mDense\u001b[0m)                     │ (\u001b[38;5;45mNone\u001b[0m, \u001b[38;5;34m32\u001b[0m)                  │           \u001b[38;5;34m8,672\u001b[0m │\n",
       "├──────────────────────────────────────┼─────────────────────────────┼─────────────────┤\n",
       "│ dense_97 (\u001b[38;5;33mDense\u001b[0m)                     │ (\u001b[38;5;45mNone\u001b[0m, \u001b[38;5;34m16\u001b[0m)                  │             \u001b[38;5;34m528\u001b[0m │\n",
       "├──────────────────────────────────────┼─────────────────────────────┼─────────────────┤\n",
       "│ dense_98 (\u001b[38;5;33mDense\u001b[0m)                     │ (\u001b[38;5;45mNone\u001b[0m, \u001b[38;5;34m32\u001b[0m)                  │             \u001b[38;5;34m544\u001b[0m │\n",
       "├──────────────────────────────────────┼─────────────────────────────┼─────────────────┤\n",
       "│ dense_100 (\u001b[38;5;33mDense\u001b[0m)                    │ (\u001b[38;5;45mNone\u001b[0m, \u001b[38;5;34m16\u001b[0m)                  │             \u001b[38;5;34m528\u001b[0m │\n",
       "├──────────────────────────────────────┼─────────────────────────────┼─────────────────┤\n",
       "│ dense_101 (\u001b[38;5;33mDense\u001b[0m)                    │ (\u001b[38;5;45mNone\u001b[0m, \u001b[38;5;34m270\u001b[0m)                 │           \u001b[38;5;34m4,590\u001b[0m │\n",
       "└──────────────────────────────────────┴─────────────────────────────┴─────────────────┘\n"
      ]
     },
     "metadata": {},
     "output_type": "display_data"
    },
    {
     "data": {
      "text/html": [
       "<pre style=\"white-space:pre;overflow-x:auto;line-height:normal;font-family:Menlo,'DejaVu Sans Mono',consolas,'Courier New',monospace\"><span style=\"font-weight: bold\"> Total params: </span><span style=\"color: #00af00; text-decoration-color: #00af00\">14,862</span> (58.05 KB)\n",
       "</pre>\n"
      ],
      "text/plain": [
       "\u001b[1m Total params: \u001b[0m\u001b[38;5;34m14,862\u001b[0m (58.05 KB)\n"
      ]
     },
     "metadata": {},
     "output_type": "display_data"
    },
    {
     "data": {
      "text/html": [
       "<pre style=\"white-space:pre;overflow-x:auto;line-height:normal;font-family:Menlo,'DejaVu Sans Mono',consolas,'Courier New',monospace\"><span style=\"font-weight: bold\"> Trainable params: </span><span style=\"color: #00af00; text-decoration-color: #00af00\">14,862</span> (58.05 KB)\n",
       "</pre>\n"
      ],
      "text/plain": [
       "\u001b[1m Trainable params: \u001b[0m\u001b[38;5;34m14,862\u001b[0m (58.05 KB)\n"
      ]
     },
     "metadata": {},
     "output_type": "display_data"
    },
    {
     "data": {
      "text/html": [
       "<pre style=\"white-space:pre;overflow-x:auto;line-height:normal;font-family:Menlo,'DejaVu Sans Mono',consolas,'Courier New',monospace\"><span style=\"font-weight: bold\"> Non-trainable params: </span><span style=\"color: #00af00; text-decoration-color: #00af00\">0</span> (0.00 B)\n",
       "</pre>\n"
      ],
      "text/plain": [
       "\u001b[1m Non-trainable params: \u001b[0m\u001b[38;5;34m0\u001b[0m (0.00 B)\n"
      ]
     },
     "metadata": {},
     "output_type": "display_data"
    }
   ],
   "source": [
    "noise_factor = 0.2\n",
    "\n",
    "X_train2 = X_train + noise_factor * np.random.normal(loc=0.0, scale=1.0, size=original_data.shape)\n",
    "\n",
    "input_dim = X_train.shape[1]\n",
    "\n",
    "encoded = Dense(encoding_dim, activation='relu')(input_layer)\n",
    "encoded = Dense(int(encoding_dim / 2), activation='relu')(encoded)\n",
    "encoded = Dense(int(encoding_dim), activation='relu')(encoded)\n",
    "\n",
    "# 디코더: 점진적으로 차원 확장\n",
    "decoded = Dense(int(encoding_dim), activation='relu')(encoded)\n",
    "decoded = Dense(int(encoding_dim / 2), activation='relu')(encoded)\n",
    "decoded = Dense(input_dim, activation='sigmoid')(decoded)  # 입력 차원으로 복원\n",
    "\n",
    "# 오토인코더 모델 구성\n",
    "autoencoder = Model(inputs=input_layer, outputs=decoded)\n",
    "\n",
    "# 모델 컴파일\n",
    "autoencoder.compile(optimizer='adam', loss='mean_squared_error')\n",
    "\n",
    "autoencoder.summary()"
   ]
  },
  {
   "cell_type": "code",
   "execution_count": 476,
   "id": "43793f07-c677-4f9a-ac4e-00fbe265865b",
   "metadata": {},
   "outputs": [
    {
     "data": {
      "text/plain": [
       "(763, 270)"
      ]
     },
     "execution_count": 476,
     "metadata": {},
     "output_type": "execute_result"
    }
   ],
   "source": [
    "X_train2.shape"
   ]
  },
  {
   "cell_type": "code",
   "execution_count": 478,
   "id": "50f7af35-7965-4932-a4a1-f725faf0df48",
   "metadata": {},
   "outputs": [
    {
     "data": {
      "text/plain": [
       "(763, 270)"
      ]
     },
     "execution_count": 478,
     "metadata": {},
     "output_type": "execute_result"
    }
   ],
   "source": [
    "X_train.shape"
   ]
  },
  {
   "cell_type": "code",
   "execution_count": 480,
   "id": "29bc6c85-d34c-45e1-8ad4-f1478405f8bd",
   "metadata": {},
   "outputs": [
    {
     "data": {
      "text/plain": [
       "<keras.src.callbacks.history.History at 0x1d86f063440>"
      ]
     },
     "execution_count": 480,
     "metadata": {},
     "output_type": "execute_result"
    }
   ],
   "source": [
    "autoencoder.fit(X_train, X_train2, epochs=100, batch_size=16, shuffle=True, verbose=0)"
   ]
  },
  {
   "cell_type": "code",
   "execution_count": 498,
   "id": "2b273a17-8ed9-4218-b57b-76df3d332a52",
   "metadata": {},
   "outputs": [],
   "source": [
    "X_test2 = X_test + noise_factor * np.random.normal(loc=0.0, scale=1.0, size=original_data.shape)"
   ]
  },
  {
   "cell_type": "code",
   "execution_count": 500,
   "id": "d6283e52-4a44-46ba-bbd3-466b93376407",
   "metadata": {},
   "outputs": [
    {
     "name": "stdout",
     "output_type": "stream",
     "text": [
      "\u001b[1m9/9\u001b[0m \u001b[32m━━━━━━━━━━━━━━━━━━━━\u001b[0m\u001b[37m\u001b[0m \u001b[1m0s\u001b[0m 1ms/step \n"
     ]
    }
   ],
   "source": [
    "denoised_data = autoencoder.predict(X_test2)"
   ]
  },
  {
   "cell_type": "code",
   "execution_count": 502,
   "id": "49795b8f-ac02-46e4-a03e-a3f82df5f38c",
   "metadata": {},
   "outputs": [
    {
     "data": {
      "text/plain": [
       "(288, 270)"
      ]
     },
     "execution_count": 502,
     "metadata": {},
     "output_type": "execute_result"
    }
   ],
   "source": [
    "X_test2.shape"
   ]
  },
  {
   "cell_type": "code",
   "execution_count": 504,
   "id": "d081cd79-a22d-4d09-abdf-252eeafc10ab",
   "metadata": {},
   "outputs": [
    {
     "data": {
      "text/plain": [
       "(288, 270)"
      ]
     },
     "execution_count": 504,
     "metadata": {},
     "output_type": "execute_result"
    }
   ],
   "source": [
    "denoised_data.shape"
   ]
  },
  {
   "cell_type": "code",
   "execution_count": 508,
   "id": "901c5ceb-86bb-4385-88d8-573c0b4981eb",
   "metadata": {},
   "outputs": [
    {
     "data": {
      "text/html": [
       "<div>\n",
       "<style scoped>\n",
       "    .dataframe tbody tr th:only-of-type {\n",
       "        vertical-align: middle;\n",
       "    }\n",
       "\n",
       "    .dataframe tbody tr th {\n",
       "        vertical-align: top;\n",
       "    }\n",
       "\n",
       "    .dataframe thead th {\n",
       "        text-align: right;\n",
       "    }\n",
       "</style>\n",
       "<table border=\"1\" class=\"dataframe\">\n",
       "  <thead>\n",
       "    <tr style=\"text-align: right;\">\n",
       "      <th></th>\n",
       "      <th>reconstruction_error</th>\n",
       "      <th>true_class</th>\n",
       "    </tr>\n",
       "  </thead>\n",
       "  <tbody>\n",
       "    <tr>\n",
       "      <th>count</th>\n",
       "      <td>288.000000</td>\n",
       "      <td>288.000000</td>\n",
       "    </tr>\n",
       "    <tr>\n",
       "      <th>mean</th>\n",
       "      <td>4.953443</td>\n",
       "      <td>0.315972</td>\n",
       "    </tr>\n",
       "    <tr>\n",
       "      <th>std</th>\n",
       "      <td>0.260065</td>\n",
       "      <td>0.465711</td>\n",
       "    </tr>\n",
       "    <tr>\n",
       "      <th>min</th>\n",
       "      <td>4.539942</td>\n",
       "      <td>0.000000</td>\n",
       "    </tr>\n",
       "    <tr>\n",
       "      <th>25%</th>\n",
       "      <td>4.692407</td>\n",
       "      <td>0.000000</td>\n",
       "    </tr>\n",
       "    <tr>\n",
       "      <th>50%</th>\n",
       "      <td>4.963655</td>\n",
       "      <td>0.000000</td>\n",
       "    </tr>\n",
       "    <tr>\n",
       "      <th>75%</th>\n",
       "      <td>5.173810</td>\n",
       "      <td>1.000000</td>\n",
       "    </tr>\n",
       "    <tr>\n",
       "      <th>max</th>\n",
       "      <td>5.678709</td>\n",
       "      <td>1.000000</td>\n",
       "    </tr>\n",
       "  </tbody>\n",
       "</table>\n",
       "</div>"
      ],
      "text/plain": [
       "       reconstruction_error  true_class\n",
       "count            288.000000  288.000000\n",
       "mean               4.953443    0.315972\n",
       "std                0.260065    0.465711\n",
       "min                4.539942    0.000000\n",
       "25%                4.692407    0.000000\n",
       "50%                4.963655    0.000000\n",
       "75%                5.173810    1.000000\n",
       "max                5.678709    1.000000"
      ]
     },
     "execution_count": 508,
     "metadata": {},
     "output_type": "execute_result"
    }
   ],
   "source": [
    "from sklearn.metrics import mean_squared_error\n",
    "\n",
    "mse = np.mean(np.power(X_test2 - denoised_data, 2), axis=1)\n",
    "denoised_error_df = pd.DataFrame({'reconstruction_error': mse,\n",
    "                        'true_class': y_test})\n",
    "denoised_error_df.describe()"
   ]
  },
  {
   "cell_type": "code",
   "execution_count": 524,
   "id": "d5332ef6-5dee-47b0-bd06-d7d915cc3d45",
   "metadata": {},
   "outputs": [
    {
     "data": {
      "image/png": "[encoded data removed]",
      "text/plain": [
       "<Figure size 640x480 with 1 Axes>"
      ]
     },
     "metadata": {},
     "output_type": "display_data"
    }
   ],
   "source": [
    "groups = denoised_error_df.groupby('true_class')\n",
    "fig, ax = plt.subplots()\n",
    "\n",
    "for name, group in groups:\n",
    "    ax.plot(group.index, group.reconstruction_error, marker='o', ms=3.5, linestyle='',\n",
    "            label= \"lying\" if name == 0 else \"standing\")\n",
    "ax.hlines(threshold, ax.get_xlim()[0], ax.get_xlim()[1], colors=\"r\", zorder=100, label='Threshold')\n",
    "ax.legend()\n",
    "plt.title(\"Reconstruction error for different classes\")\n",
    "plt.ylabel(\"Reconstruction error\")\n",
    "plt.xlabel(\"Data point index\")\n",
    "plt.show();"
   ]
  },
  {
   "cell_type": "code",
   "execution_count": 520,
   "id": "08b59a60-16da-4a55-aa7b-dea885425df1",
   "metadata": {},
   "outputs": [],
   "source": [
    "threshold = 5.1"
   ]
  },
  {
   "cell_type": "code",
   "execution_count": 522,
   "id": "b9f30512-5b47-447b-a1a4-918627b4835e",
   "metadata": {},
   "outputs": [
    {
     "data": {
      "image/png": "[encoded data removed]",
      "text/plain": [
       "<Figure size 800x800 with 2 Axes>"
      ]
     },
     "metadata": {},
     "output_type": "display_data"
    },
    {
     "name": "stdout",
     "output_type": "stream",
     "text": [
      "              precision    recall  f1-score   support\n",
      "\n",
      "           0       1.00      0.88      0.94       197\n",
      "           1       0.79      1.00      0.88        91\n",
      "\n",
      "    accuracy                           0.92       288\n",
      "   macro avg       0.90      0.94      0.91       288\n",
      "weighted avg       0.93      0.92      0.92       288\n",
      "\n"
     ]
    }
   ],
   "source": [
    "from sklearn.metrics import confusion_matrix, classification_report\n",
    "import seaborn as sns\n",
    "\n",
    "y_pred = [1 if e > threshold else 0 for e in denoised_error_df.reconstruction_error.values]\n",
    "conf_matrix = confusion_matrix(denoised_error_df.true_class, y_pred)\n",
    "plt.figure(figsize=(8, 8))\n",
    "sns.heatmap(conf_matrix, xticklabels=LABELS, yticklabels=LABELS, annot=True, fmt=\"d\");\n",
    "plt.title(\"Confusion matrix\")\n",
    "plt.ylabel('True class')\n",
    "plt.xlabel('Predicted class')\n",
    "plt.show()\n",
    "\n",
    "print(classification_report(denoised_error_df.true_class, y_pred))"
   ]
  },
  {
   "cell_type": "code",
   "execution_count": null,
   "id": "4952181f-a34f-407c-b8dc-70437bd055a9",
   "metadata": {},
   "outputs": [],
   "source": []
  }
 ],
 "metadata": {
  "kernelspec": {
   "display_name": "Python 3 (ipykernel)",
   "language": "python",
   "name": "python3"
  },
  "language_info": {
   "codemirror_mode": {
    "name": "ipython",
    "version": 3
   },
   "file_extension": ".py",
   "mimetype": "text/x-python",
   "name": "python",
   "nbconvert_exporter": "python",
   "pygments_lexer": "ipython3",
   "version": "3.12.4"
  }
 },
 "nbformat": 4,
 "nbformat_minor": 5
}

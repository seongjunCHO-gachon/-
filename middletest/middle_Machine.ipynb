{
 "cells": [
  {
   "cell_type": "code",
   "execution_count": 2,
   "id": "827d4238-1db1-4d6b-a1ac-099afaba2159",
   "metadata": {},
   "outputs": [],
   "source": [
    "url = 'https://archive.ics.uci.edu/ml/machine-learning-databases/car/car.data'"
   ]
  },
  {
   "cell_type": "code",
   "execution_count": 6,
   "id": "0d212048-d1f3-4686-9dfe-6e7928b12ccf",
   "metadata": {},
   "outputs": [],
   "source": [
    "import pandas as pd"
   ]
  },
  {
   "cell_type": "code",
   "execution_count": 71,
   "id": "3d9793ec-b23c-469a-8d8d-558e13781c04",
   "metadata": {},
   "outputs": [],
   "source": [
    "columns = ['buying', 'maint', 'doors', 'persons', 'lug_boot', 'safety', 'class']\n",
    "data = pd.read_csv(url, names=columns)"
   ]
  },
  {
   "cell_type": "code",
   "execution_count": 72,
   "id": "331d7218-21cc-4e3f-ae53-61257aadf662",
   "metadata": {},
   "outputs": [
    {
     "name": "stdout",
     "output_type": "stream",
     "text": [
      "  buying  maint doors persons lug_boot safety  class\n",
      "0  vhigh  vhigh     2       2    small    low  unacc\n",
      "1  vhigh  vhigh     2       2    small    med  unacc\n",
      "2  vhigh  vhigh     2       2    small   high  unacc\n",
      "3  vhigh  vhigh     2       2      med    low  unacc\n",
      "4  vhigh  vhigh     2       2      med    med  unacc\n"
     ]
    }
   ],
   "source": [
    "print(data.head())"
   ]
  },
  {
   "cell_type": "code",
   "execution_count": 75,
   "id": "8bdf91cb-ffd1-4743-8ef1-7a13d12e2896",
   "metadata": {},
   "outputs": [
    {
     "name": "stdout",
     "output_type": "stream",
     "text": [
      "     buying maint  doors persons lug_boot safety  class\n",
      "1723    low   low  5more    more      med    med   good\n",
      "1724    low   low  5more    more      med   high  vgood\n",
      "1725    low   low  5more    more      big    low  unacc\n",
      "1726    low   low  5more    more      big    med   good\n",
      "1727    low   low  5more    more      big   high  vgood\n"
     ]
    }
   ],
   "source": [
    "print(data.tail())\n"
   ]
  },
  {
   "cell_type": "code",
   "execution_count": 77,
   "id": "053b8b6f-c4d1-4841-8123-78a4b96ba474",
   "metadata": {
    "scrolled": true
   },
   "outputs": [
    {
     "data": {
      "text/plain": [
       "array(['unacc', 'acc', 'vgood', 'good'], dtype=object)"
      ]
     },
     "execution_count": 77,
     "metadata": {},
     "output_type": "execute_result"
    }
   ],
   "source": [
    "data[\"class\"].unique()"
   ]
  },
  {
   "cell_type": "code",
   "execution_count": 127,
   "id": "4f16556c-d988-42f2-b817-e781c1651be1",
   "metadata": {},
   "outputs": [],
   "source": [
    "from sklearn.preprocessing import LabelEncoder\n",
    "\n",
    "label_encoder = LabelEncoder()\n",
    "\n",
    "data[\"buying\"] = label_encoder.fit_transform(data[\"buying\"])\n",
    "data[\"maint\"] = label_encoder.fit_transform(data[\"maint\"])\n",
    "data[\"doors\"] = label_encoder.fit_transform(data[\"doors\"])\n",
    "data[\"persons\"] = label_encoder.fit_transform(data[\"persons\"])\n",
    "data[\"lug_boot\"] = label_encoder.fit_transform(data[\"lug_boot\"])\n",
    "data[\"safety\"] = label_encoder.fit_transform(data[\"safety\"])\n",
    "data[\"class\"] = label_encoder.fit_transform(data[\"class\"])"
   ]
  },
  {
   "cell_type": "code",
   "execution_count": 129,
   "id": "d19f6be9-03f5-4658-86ee-2655a4766fa2",
   "metadata": {},
   "outputs": [
    {
     "data": {
      "text/plain": [
       "array([2, 0, 3, 1], dtype=int64)"
      ]
     },
     "execution_count": 129,
     "metadata": {},
     "output_type": "execute_result"
    }
   ],
   "source": [
    "data[\"class\"].unique()"
   ]
  },
  {
   "cell_type": "markdown",
   "id": "52db51ed-96de-4726-9608-8569f90e1ffc",
   "metadata": {},
   "source": [
    "#array(['unacc', 'acc', 'vgood', 'good']\n",
    "\n",
    "#array([2, 0, 3, 1])\n",
    "\n",
    "# 2 = unacc, 0 = acc, 3 = vgood, 1 = good"
   ]
  },
  {
   "cell_type": "code",
   "execution_count": 131,
   "id": "b89b074c-0267-44b2-b765-8ff2b27fb98a",
   "metadata": {},
   "outputs": [],
   "source": [
    "X = data.drop(['class'], axis= 1)\n",
    "\n",
    "Y = data['class']"
   ]
  },
  {
   "cell_type": "code",
   "execution_count": 133,
   "id": "38440b81-7412-4787-9be0-25fafb59a42d",
   "metadata": {},
   "outputs": [
    {
     "data": {
      "text/plain": [
       "class\n",
       "2    1210\n",
       "0     384\n",
       "1      69\n",
       "3      65\n",
       "Name: count, dtype: int64"
      ]
     },
     "execution_count": 133,
     "metadata": {},
     "output_type": "execute_result"
    }
   ],
   "source": [
    "Y.value_counts()"
   ]
  },
  {
   "cell_type": "code",
   "execution_count": 137,
   "id": "b7f0e87f-8d1d-4db5-a0f1-0db79b257f6a",
   "metadata": {},
   "outputs": [
    {
     "data": {
      "text/plain": [
       "buying\n",
       "3    432\n",
       "0    432\n",
       "2    432\n",
       "1    432\n",
       "Name: count, dtype: int64"
      ]
     },
     "execution_count": 137,
     "metadata": {},
     "output_type": "execute_result"
    }
   ],
   "source": [
    "X[\"buying\"].value_counts()"
   ]
  },
  {
   "cell_type": "code",
   "execution_count": 139,
   "id": "283f6550-e094-4f81-bcdd-b65c32c06f7f",
   "metadata": {},
   "outputs": [],
   "source": [
    "\n",
    "from sklearn.model_selection import train_test_split\n",
    "\n",
    "X_train, X_test, Y_train, Y_test = train_test_split(X, Y,test_size=0.25,random_state=0)"
   ]
  },
  {
   "cell_type": "code",
   "execution_count": 197,
   "id": "6a707eca-c5a3-4aed-a5c1-785605814a51",
   "metadata": {},
   "outputs": [],
   "source": [
    "from sklearn.metrics import accuracy_score\n",
    "from sklearn.metrics import confusion_matrix\n",
    "from sklearn.metrics import classification_report"
   ]
  },
  {
   "cell_type": "code",
   "execution_count": 177,
   "id": "bcfc93f8-dd85-4e61-b9ba-b3e79a76ceb1",
   "metadata": {},
   "outputs": [
    {
     "name": "stdout",
     "output_type": "stream",
     "text": [
      "\n",
      "--- Radom Forest ---\n",
      "0.9745370370370371\n",
      "[[ 95   3   1   0]\n",
      " [  2  19   0   0]\n",
      " [  3   0 293   0]\n",
      " [  2   0   0  14]]\n",
      "              precision    recall  f1-score   support\n",
      "\n",
      "           0       0.93      0.96      0.95        99\n",
      "           1       0.86      0.90      0.88        21\n",
      "           2       1.00      0.99      0.99       296\n",
      "           3       1.00      0.88      0.93        16\n",
      "\n",
      "    accuracy                           0.97       432\n",
      "   macro avg       0.95      0.93      0.94       432\n",
      "weighted avg       0.98      0.97      0.97       432\n",
      "\n"
     ]
    }
   ],
   "source": [
    "from sklearn.ensemble import RandomForestClassifier\n",
    "\n",
    "import warnings\n",
    "warnings.filterwarnings('ignore')\n",
    "\n",
    "print (\"\\n--- Radom Forest ---\")\n",
    "rf_clf = RandomForestClassifier(random_state=0)\n",
    "rf_clf.fit(X_train, Y_train)\n",
    "rf_preds = rf_clf.predict(X_test)\n",
    "print(accuracy_score(Y_test,rf_preds))\n",
    "print(confusion_matrix(Y_test, rf_preds))\n",
    "print(classification_report(Y_test, rf_preds))"
   ]
  },
  {
   "cell_type": "code",
   "execution_count": 181,
   "id": "c5e9c47b-fa51-4f9a-925b-2d08ff39f6d4",
   "metadata": {},
   "outputs": [
    {
     "name": "stdout",
     "output_type": "stream",
     "text": [
      "DT 평균제곱근오차 0.25925925925925924\n",
      "\n",
      "--- DT ---\n",
      "0.9768518518518519\n",
      "[[ 92   4   3   0]\n",
      " [  0  21   0   0]\n",
      " [  2   0 294   0]\n",
      " [  1   0   0  15]]\n",
      "              precision    recall  f1-score   support\n",
      "\n",
      "           0       0.97      0.93      0.95        99\n",
      "           1       0.84      1.00      0.91        21\n",
      "           2       0.99      0.99      0.99       296\n",
      "           3       1.00      0.94      0.97        16\n",
      "\n",
      "    accuracy                           0.98       432\n",
      "   macro avg       0.95      0.97      0.96       432\n",
      "weighted avg       0.98      0.98      0.98       432\n",
      "\n"
     ]
    }
   ],
   "source": [
    "from sklearn.tree import DecisionTreeClassifier\n",
    "\n",
    "clf_dt = DecisionTreeClassifier(random_state=0)\n",
    "clf_dt.fit(X_train, Y_train)\n",
    "\n",
    "from sklearn.metrics import mean_squared_error\n",
    "\n",
    "pred_dt = clf_dt.predict(X_test)\n",
    "print('DT 평균제곱근오차', mean_squared_error(dy_preds, Y_test))\n",
    "print(\"\\n--- DT ---\")\n",
    "print(accuracy_score(Y_test, pred_dt))\n",
    "print(confusion_matrix(Y_test, pred_dt))\n",
    "print(classification_report(Y_test, pred_dt))"
   ]
  },
  {
   "cell_type": "code",
   "execution_count": 201,
   "id": "6e00ae8f-3755-41b4-81cd-8d248fca8ec8",
   "metadata": {},
   "outputs": [
    {
     "name": "stdout",
     "output_type": "stream",
     "text": [
      "\n",
      "--- Logistic Regression Classifier ---\n",
      "0.6550925925925926\n",
      "[[ 11   0  84   4]\n",
      " [  1   0  20   0]\n",
      " [ 24   0 269   3]\n",
      " [  4   0   9   3]]\n",
      "              precision    recall  f1-score   support\n",
      "\n",
      "           0       0.28      0.11      0.16        99\n",
      "           1       0.00      0.00      0.00        21\n",
      "           2       0.70      0.91      0.79       296\n",
      "           3       0.30      0.19      0.23        16\n",
      "\n",
      "    accuracy                           0.66       432\n",
      "   macro avg       0.32      0.30      0.30       432\n",
      "weighted avg       0.56      0.66      0.59       432\n",
      "\n"
     ]
    }
   ],
   "source": [
    "from sklearn.linear_model import LogisticRegression\n",
    "\n",
    "\n",
    "clf_lr = LogisticRegression(random_state=0)\n",
    "clf_lr.fit(X_train, Y_train)\n",
    "\n",
    "pred_lr = clf_lr.predict(X_test)\n",
    "\n",
    "print (\"\\n--- Logistic Regression Classifier ---\")\n",
    "print (accuracy_score(Y_test, pred_lr))\n",
    "print (confusion_matrix(Y_test, pred_lr))\n",
    "print(classification_report(Y_test,pred_lr))"
   ]
  },
  {
   "cell_type": "code",
   "execution_count": null,
   "id": "4804266e-1b30-425f-8025-fe60604ed0fb",
   "metadata": {},
   "outputs": [],
   "source": []
  }
 ],
 "metadata": {
  "kernelspec": {
   "display_name": "Python 3 (ipykernel)",
   "language": "python",
   "name": "python3"
  },
  "language_info": {
   "codemirror_mode": {
    "name": "ipython",
    "version": 3
   },
   "file_extension": ".py",
   "mimetype": "text/x-python",
   "name": "python",
   "nbconvert_exporter": "python",
   "pygments_lexer": "ipython3",
   "version": "3.12.4"
  }
 },
 "nbformat": 4,
 "nbformat_minor": 5
}
